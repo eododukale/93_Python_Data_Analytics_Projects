{
  "nbformat": 4,
  "nbformat_minor": 0,
  "metadata": {
    "colab": {
      "provenance": [],
      "toc_visible": true,
      "include_colab_link": true
    },
    "kernelspec": {
      "name": "python3",
      "display_name": "Python 3"
    },
    "language_info": {
      "name": "python"
    }
  },
  "cells": [
    {
      "cell_type": "markdown",
      "metadata": {
        "id": "view-in-github",
        "colab_type": "text"
      },
      "source": [
        "<a href=\"https://colab.research.google.com/github/eododukale/93_Python_Data_Analytics_Projects/blob/main/PySparkSql2.ipynb\" target=\"_parent\"><img src=\"https://colab.research.google.com/assets/colab-badge.svg\" alt=\"Open In Colab\"/></a>"
      ]
    },
    {
      "cell_type": "code",
      "execution_count": null,
      "metadata": {
        "colab": {
          "base_uri": "https://localhost:8080/"
        },
        "id": "0Vh14Emylh--",
        "outputId": "c0d1523b-a46c-4afd-8737-2d4312929acc"
      },
      "outputs": [
        {
          "output_type": "stream",
          "name": "stdout",
          "text": [
            "Collecting pyspark\n",
            "  Downloading pyspark-3.5.1.tar.gz (317.0 MB)\n",
            "\u001b[2K     \u001b[90m━━━━━━━━━━━━━━━━━━━━━━━━━━━━━━━━━━━━━━━━\u001b[0m \u001b[32m317.0/317.0 MB\u001b[0m \u001b[31m3.0 MB/s\u001b[0m eta \u001b[36m0:00:00\u001b[0m\n",
            "\u001b[?25h  Preparing metadata (setup.py) ... \u001b[?25l\u001b[?25hdone\n",
            "Requirement already satisfied: py4j==0.10.9.7 in /usr/local/lib/python3.10/dist-packages (from pyspark) (0.10.9.7)\n",
            "Building wheels for collected packages: pyspark\n",
            "  Building wheel for pyspark (setup.py) ... \u001b[?25l\u001b[?25hdone\n",
            "  Created wheel for pyspark: filename=pyspark-3.5.1-py2.py3-none-any.whl size=317488491 sha256=992d0f8b3dc5ca95c6c07f271c9f3435854ff237b9a17e0c03a12d2e55001313\n",
            "  Stored in directory: /root/.cache/pip/wheels/80/1d/60/2c256ed38dddce2fdd93be545214a63e02fbd8d74fb0b7f3a6\n",
            "Successfully built pyspark\n",
            "Installing collected packages: pyspark\n",
            "Successfully installed pyspark-3.5.1\n"
          ]
        }
      ],
      "source": [
        "pip install pyspark"
      ]
    },
    {
      "cell_type": "code",
      "source": [
        "from pyspark.sql import SparkSession\n",
        "spark = SparkSession.builder.appName(\"SparkSQL2\").getOrCreate()"
      ],
      "metadata": {
        "id": "zB_Avd8Dlop9"
      },
      "execution_count": null,
      "outputs": []
    },
    {
      "cell_type": "code",
      "source": [
        "countries_df = spark.read.csv(\"/content/countries.csv\", header = True, inferSchema = True)\n",
        "\n",
        "countries_df.show()"
      ],
      "metadata": {
        "colab": {
          "base_uri": "https://localhost:8080/"
        },
        "id": "iW9ElfHLl92d",
        "outputId": "16029e7b-48c6-482d-fb25-b1501a9f1e15"
      },
      "execution_count": null,
      "outputs": [
        {
          "output_type": "stream",
          "name": "stdout",
          "text": [
            "+----------+-------------------+--------------------+------------+----------+----------------+----------+---------+---------+-------------+----------------------+----------------------+\n",
            "|COUNTRY_ID|               NAME|         NATIONALITY|COUNTRY_CODE|ISO_ALPHA2|         CAPITAL|POPULATION| AREA_KM2|REGION_ID|SUB_REGION_ID|INTERMEDIATE_REGION_ID|ORGANIZATION_REGION_ID|\n",
            "+----------+-------------------+--------------------+------------+----------+----------------+----------+---------+---------+-------------+----------------------+----------------------+\n",
            "|         1|        Afghanistan|              Afghan|         AFG|        AF|           Kabul|  38041754| 652230.0|       30|           30|                  NULL|                    30|\n",
            "|         2|            Albania|            Albanian|         ALB|        AL|          Tirana|   2880917|  28748.0|       20|           70|                  NULL|                    20|\n",
            "|         3|            Algeria|            Algerian|         DZA|        DZ|         Algiers|  43053054|2381741.0|       50|           40|                  NULL|                    20|\n",
            "|         4|     American Samoa|     American Samoan|         ASM|        AS|       Pago Pago|     55312|    199.0|       40|           20|                  NULL|                    30|\n",
            "|         5|            Andorra|            Andorran|         AND|        AD|Andorra la Vella|     77142|    468.0|       20|           70|                  NULL|                    20|\n",
            "|         6|             Angola|             Angolan|         AGO|        AO|          Luanda|  31825295|1246700.0|       50|          160|                    80|                    20|\n",
            "|         7|           Anguilla|           Anguillan|         AIA|        AI|      The Valley|     14869|     91.0|       10|           10|                    60|                    40|\n",
            "|         8|         Antarctica|           Antarctic|         ATA|        AQ| McMurdo Station|      1106|   1.42E7|       40|         NULL|                  NULL|                    30|\n",
            "|         9|Antigua and Barbuda|Antiguan or Barbudan|         ATG|        AG|      St. John's|     97118|    442.0|       10|           10|                    60|                    40|\n",
            "|        10|          Argentina|           Argentine|         ARG|        AR|    Buenos Aires|  44780677|2780400.0|       10|           10|                    40|                    40|\n",
            "|        11|            Armenia|            Armenian|         ARM|        AM|         Yerevan|   2957731|  29743.0|       30|          170|                  NULL|                    30|\n",
            "|        12|              Aruba|              Aruban|         ABW|        AW|      Oranjestad|    106314|    180.0|       10|           10|                    60|                    40|\n",
            "|        13|          Australia|          Australian|         AUS|        AU|        Canberra|  25203198|7692024.0|       40|           90|                  NULL|                    30|\n",
            "|        14|            Austria|            Austrian|         AUT|        AT|          Vienna|   8955102|  83871.0|       20|          150|                  NULL|                    20|\n",
            "|        15|         Azerbaijan|         Azerbaijani|         AZE|        AZ|            Baku|  10047718|  86600.0|       30|          170|                  NULL|                    30|\n",
            "|        16|            Bahamas|            Bahamian|         BHS|        BS|          Nassau|    389482|  13943.0|       10|           10|                    60|                    40|\n",
            "|        17|            Bahrain|            Bahraini|         BHR|        BH|          Manama|   1641172|    765.0|       30|          170|                  NULL|                    30|\n",
            "|        18|         Bangladesh|         Bangladeshi|         BGD|        BD|           Dhaka| 163046161| 147570.0|       30|           30|                  NULL|                    30|\n",
            "|        19|           Barbados|           Barbadian|         BRB|        BB|      Bridgetown|    287025|    430.0|       10|           10|                    60|                    40|\n",
            "|        20|            Belarus|          Belarusian|         BLR|        BY|           Minsk|   9452411| 207600.0|       20|          140|                  NULL|                    20|\n",
            "+----------+-------------------+--------------------+------------+----------+----------------+----------+---------+---------+-------------+----------------------+----------------------+\n",
            "only showing top 20 rows\n",
            "\n"
          ]
        }
      ]
    },
    {
      "cell_type": "code",
      "source": [
        "countries_df.printSchema()"
      ],
      "metadata": {
        "colab": {
          "base_uri": "https://localhost:8080/"
        },
        "id": "ZtaWmJP4myZ0",
        "outputId": "09a8f7bb-a32f-4830-817c-7f3384722a88"
      },
      "execution_count": null,
      "outputs": [
        {
          "output_type": "stream",
          "name": "stdout",
          "text": [
            "root\n",
            " |-- COUNTRY_ID: integer (nullable = true)\n",
            " |-- NAME: string (nullable = true)\n",
            " |-- NATIONALITY: string (nullable = true)\n",
            " |-- COUNTRY_CODE: string (nullable = true)\n",
            " |-- ISO_ALPHA2: string (nullable = true)\n",
            " |-- CAPITAL: string (nullable = true)\n",
            " |-- POPULATION: integer (nullable = true)\n",
            " |-- AREA_KM2: double (nullable = true)\n",
            " |-- REGION_ID: integer (nullable = true)\n",
            " |-- SUB_REGION_ID: integer (nullable = true)\n",
            " |-- INTERMEDIATE_REGION_ID: integer (nullable = true)\n",
            " |-- ORGANIZATION_REGION_ID: integer (nullable = true)\n",
            "\n"
          ]
        }
      ]
    },
    {
      "cell_type": "code",
      "source": [
        "#schema = TABLE([COLUMNS])  = StructType([StructField])\n",
        "\n",
        "mystockdf = spark.read.csv(\"/content/stocks.csv\", inferSchema=True, header=True)\n",
        "mystockdf.printSchema()\n"
      ],
      "metadata": {
        "colab": {
          "base_uri": "https://localhost:8080/"
        },
        "id": "xXlYO9Xvm5eI",
        "outputId": "65b0a0ef-f676-46e8-9105-8793ce7243a0"
      },
      "execution_count": null,
      "outputs": [
        {
          "output_type": "stream",
          "name": "stdout",
          "text": [
            "root\n",
            " |-- symbol: string (nullable = true)\n",
            " |-- date: string (nullable = true)\n",
            " |-- price: double (nullable = true)\n",
            "\n"
          ]
        }
      ]
    },
    {
      "cell_type": "code",
      "source": [
        "from pyspark.sql.types import *\n",
        "\n",
        "mystockschema = StructType([\n",
        "    StructField(\"symbol\", StringType(), True),\n",
        "    StructField(\"date\", DateType(), True),\n",
        "    StructField(\"price\", FloatType(), True),\n",
        "])"
      ],
      "metadata": {
        "id": "3Ni5oAteoXGd"
      },
      "execution_count": null,
      "outputs": []
    },
    {
      "cell_type": "code",
      "source": [
        "mystockdf = spark.read.format(\"csv\").option(\"header\", \"true\").schema(mystockschema).load(\"/content/stocks.csv\")\n",
        "mystockdf.printSchema()"
      ],
      "metadata": {
        "colab": {
          "base_uri": "https://localhost:8080/"
        },
        "id": "8iM5xkrgpM6a",
        "outputId": "20fe03e0-0ede-451f-9743-cc39efa28864"
      },
      "execution_count": null,
      "outputs": [
        {
          "output_type": "stream",
          "name": "stdout",
          "text": [
            "root\n",
            " |-- symbol: string (nullable = true)\n",
            " |-- date: date (nullable = true)\n",
            " |-- price: float (nullable = true)\n",
            "\n"
          ]
        }
      ]
    },
    {
      "cell_type": "code",
      "source": [
        "mystockdf.write.mode('overwrite').format(\"parquet\").save(\"mystocks.parquet\")"
      ],
      "metadata": {
        "id": "4aEas__xpYRX"
      },
      "execution_count": null,
      "outputs": []
    },
    {
      "cell_type": "code",
      "source": [
        "countries_df.write.mode('overwrite').partitionBy('REGION_ID').csv('countries_part_by_region_id', header = True)"
      ],
      "metadata": {
        "id": "JcyFHS5QqIMd"
      },
      "execution_count": null,
      "outputs": []
    },
    {
      "cell_type": "code",
      "source": [
        "countries_df.write.mode('overwrite').partitionBy('REGION_ID', 'SUB_REGION_ID').csv('countries_part_by_region_id_sub_region', header = True)"
      ],
      "metadata": {
        "id": "HQwCPkBDrRAy"
      },
      "execution_count": null,
      "outputs": []
    },
    {
      "cell_type": "code",
      "source": [
        "type(countries_df.rdd)"
      ],
      "metadata": {
        "colab": {
          "base_uri": "https://localhost:8080/",
          "height": 172
        },
        "id": "yN8eUMQwrmbD",
        "outputId": "ef06eee3-2e64-43bf-ffa3-6694ba2ca0bb"
      },
      "execution_count": null,
      "outputs": [
        {
          "output_type": "execute_result",
          "data": {
            "text/plain": [
              "pyspark.rdd.RDD"
            ],
            "text/html": [
              "<div style=\"max-width:800px; border: 1px solid var(--colab-border-color);\"><style>\n",
              "      pre.function-repr-contents {\n",
              "        overflow-x: auto;\n",
              "        padding: 8px 12px;\n",
              "        max-height: 500px;\n",
              "      }\n",
              "\n",
              "      pre.function-repr-contents.function-repr-contents-collapsed {\n",
              "        cursor: pointer;\n",
              "        max-height: 100px;\n",
              "      }\n",
              "    </style>\n",
              "    <pre style=\"white-space: initial; background:\n",
              "         var(--colab-secondary-surface-color); padding: 8px 12px;\n",
              "         border-bottom: 1px solid var(--colab-border-color);\"><b>pyspark.rdd.RDD</b><br/>def __init__(jrdd: &#x27;JavaObject&#x27;, ctx: &#x27;SparkContext&#x27;, jrdd_deserializer: Serializer=AutoBatchedSerializer(CPickleSerializer()))</pre><pre class=\"function-repr-contents function-repr-contents-collapsed\" style=\"\"><a class=\"filepath\" style=\"display:none\" href=\"#\">/usr/local/lib/python3.10/dist-packages/pyspark/rdd.py</a>A Resilient Distributed Dataset (RDD), the basic abstraction in Spark.\n",
              "Represents an immutable, partitioned collection of elements that can be\n",
              "operated on in parallel.</pre>\n",
              "      <script>\n",
              "      if (google.colab.kernel.accessAllowed && google.colab.files && google.colab.files.view) {\n",
              "        for (const element of document.querySelectorAll('.filepath')) {\n",
              "          element.style.display = 'block'\n",
              "          element.onclick = (event) => {\n",
              "            event.preventDefault();\n",
              "            event.stopPropagation();\n",
              "            google.colab.files.view(element.textContent, 336);\n",
              "          };\n",
              "        }\n",
              "      }\n",
              "      for (const element of document.querySelectorAll('.function-repr-contents')) {\n",
              "        element.onclick = (event) => {\n",
              "          event.preventDefault();\n",
              "          event.stopPropagation();\n",
              "          element.classList.toggle('function-repr-contents-collapsed');\n",
              "        };\n",
              "      }\n",
              "      </script>\n",
              "      </div>"
            ]
          },
          "metadata": {},
          "execution_count": 15
        }
      ]
    },
    {
      "cell_type": "code",
      "source": [
        "# SELECTING COLUMNS\n",
        "\n",
        "countries_df.printSchema()"
      ],
      "metadata": {
        "colab": {
          "base_uri": "https://localhost:8080/"
        },
        "id": "ShvorT-ysiK_",
        "outputId": "bbb68dce-d62a-4522-e260-609f6bcd6fc2"
      },
      "execution_count": null,
      "outputs": [
        {
          "output_type": "stream",
          "name": "stdout",
          "text": [
            "root\n",
            " |-- COUNTRY_ID: integer (nullable = true)\n",
            " |-- NAME: string (nullable = true)\n",
            " |-- NATIONALITY: string (nullable = true)\n",
            " |-- COUNTRY_CODE: string (nullable = true)\n",
            " |-- ISO_ALPHA2: string (nullable = true)\n",
            " |-- CAPITAL: string (nullable = true)\n",
            " |-- POPULATION: integer (nullable = true)\n",
            " |-- AREA_KM2: double (nullable = true)\n",
            " |-- REGION_ID: integer (nullable = true)\n",
            " |-- SUB_REGION_ID: integer (nullable = true)\n",
            " |-- INTERMEDIATE_REGION_ID: integer (nullable = true)\n",
            " |-- ORGANIZATION_REGION_ID: integer (nullable = true)\n",
            "\n"
          ]
        }
      ]
    },
    {
      "cell_type": "code",
      "source": [
        "countries_df.select('name', 'population', 'capital').show()"
      ],
      "metadata": {
        "colab": {
          "base_uri": "https://localhost:8080/"
        },
        "id": "yplkL2R1s3t2",
        "outputId": "e019babe-2284-4c5e-82c1-50d540ebfef6"
      },
      "execution_count": null,
      "outputs": [
        {
          "output_type": "stream",
          "name": "stdout",
          "text": [
            "+-------------------+----------+----------------+\n",
            "|               name|population|         capital|\n",
            "+-------------------+----------+----------------+\n",
            "|        Afghanistan|  38041754|           Kabul|\n",
            "|            Albania|   2880917|          Tirana|\n",
            "|            Algeria|  43053054|         Algiers|\n",
            "|     American Samoa|     55312|       Pago Pago|\n",
            "|            Andorra|     77142|Andorra la Vella|\n",
            "|             Angola|  31825295|          Luanda|\n",
            "|           Anguilla|     14869|      The Valley|\n",
            "|         Antarctica|      1106| McMurdo Station|\n",
            "|Antigua and Barbuda|     97118|      St. John's|\n",
            "|          Argentina|  44780677|    Buenos Aires|\n",
            "|            Armenia|   2957731|         Yerevan|\n",
            "|              Aruba|    106314|      Oranjestad|\n",
            "|          Australia|  25203198|        Canberra|\n",
            "|            Austria|   8955102|          Vienna|\n",
            "|         Azerbaijan|  10047718|            Baku|\n",
            "|            Bahamas|    389482|          Nassau|\n",
            "|            Bahrain|   1641172|          Manama|\n",
            "|         Bangladesh| 163046161|           Dhaka|\n",
            "|           Barbados|    287025|      Bridgetown|\n",
            "|            Belarus|   9452411|           Minsk|\n",
            "+-------------------+----------+----------------+\n",
            "only showing top 20 rows\n",
            "\n"
          ]
        }
      ]
    },
    {
      "cell_type": "code",
      "source": [
        "countries_df.select(countries_df.NAME, countries_df.POPULATION, countries_df.CAPITAL).show()"
      ],
      "metadata": {
        "colab": {
          "base_uri": "https://localhost:8080/"
        },
        "id": "t-Kp9dVStFXU",
        "outputId": "65aa430e-5fc9-4ea8-8a27-233589b12987"
      },
      "execution_count": null,
      "outputs": [
        {
          "output_type": "stream",
          "name": "stdout",
          "text": [
            "+-------------------+----------+----------------+\n",
            "|               NAME|POPULATION|         CAPITAL|\n",
            "+-------------------+----------+----------------+\n",
            "|        Afghanistan|  38041754|           Kabul|\n",
            "|            Albania|   2880917|          Tirana|\n",
            "|            Algeria|  43053054|         Algiers|\n",
            "|     American Samoa|     55312|       Pago Pago|\n",
            "|            Andorra|     77142|Andorra la Vella|\n",
            "|             Angola|  31825295|          Luanda|\n",
            "|           Anguilla|     14869|      The Valley|\n",
            "|         Antarctica|      1106| McMurdo Station|\n",
            "|Antigua and Barbuda|     97118|      St. John's|\n",
            "|          Argentina|  44780677|    Buenos Aires|\n",
            "|            Armenia|   2957731|         Yerevan|\n",
            "|              Aruba|    106314|      Oranjestad|\n",
            "|          Australia|  25203198|        Canberra|\n",
            "|            Austria|   8955102|          Vienna|\n",
            "|         Azerbaijan|  10047718|            Baku|\n",
            "|            Bahamas|    389482|          Nassau|\n",
            "|            Bahrain|   1641172|          Manama|\n",
            "|         Bangladesh| 163046161|           Dhaka|\n",
            "|           Barbados|    287025|      Bridgetown|\n",
            "|            Belarus|   9452411|           Minsk|\n",
            "+-------------------+----------+----------------+\n",
            "only showing top 20 rows\n",
            "\n"
          ]
        }
      ]
    },
    {
      "cell_type": "code",
      "source": [
        "countries_df.select(countries_df['NAME'], countries_df['POPULATION'], countries_df['CAPITAL']).show()"
      ],
      "metadata": {
        "colab": {
          "base_uri": "https://localhost:8080/"
        },
        "id": "DKEYuBdBtb1-",
        "outputId": "f0005f06-a48c-487a-c600-a51ded4d7184"
      },
      "execution_count": null,
      "outputs": [
        {
          "output_type": "stream",
          "name": "stdout",
          "text": [
            "+-------------------+----------+----------------+\n",
            "|               NAME|POPULATION|         CAPITAL|\n",
            "+-------------------+----------+----------------+\n",
            "|        Afghanistan|  38041754|           Kabul|\n",
            "|            Albania|   2880917|          Tirana|\n",
            "|            Algeria|  43053054|         Algiers|\n",
            "|     American Samoa|     55312|       Pago Pago|\n",
            "|            Andorra|     77142|Andorra la Vella|\n",
            "|             Angola|  31825295|          Luanda|\n",
            "|           Anguilla|     14869|      The Valley|\n",
            "|         Antarctica|      1106| McMurdo Station|\n",
            "|Antigua and Barbuda|     97118|      St. John's|\n",
            "|          Argentina|  44780677|    Buenos Aires|\n",
            "|            Armenia|   2957731|         Yerevan|\n",
            "|              Aruba|    106314|      Oranjestad|\n",
            "|          Australia|  25203198|        Canberra|\n",
            "|            Austria|   8955102|          Vienna|\n",
            "|         Azerbaijan|  10047718|            Baku|\n",
            "|            Bahamas|    389482|          Nassau|\n",
            "|            Bahrain|   1641172|          Manama|\n",
            "|         Bangladesh| 163046161|           Dhaka|\n",
            "|           Barbados|    287025|      Bridgetown|\n",
            "|            Belarus|   9452411|           Minsk|\n",
            "+-------------------+----------+----------------+\n",
            "only showing top 20 rows\n",
            "\n"
          ]
        }
      ]
    },
    {
      "cell_type": "code",
      "source": [
        "from pyspark.sql.functions import col\n",
        "\n",
        "\n",
        "countries_df.select(col('NAME'), col('POPULATION'), col('CAPITAL')).show()"
      ],
      "metadata": {
        "colab": {
          "base_uri": "https://localhost:8080/"
        },
        "id": "sKrGxYGEtktE",
        "outputId": "4282a7bd-e205-4eba-f93b-49c7a3b758ff"
      },
      "execution_count": null,
      "outputs": [
        {
          "output_type": "stream",
          "name": "stdout",
          "text": [
            "+-------------------+----------+----------------+\n",
            "|               NAME|POPULATION|         CAPITAL|\n",
            "+-------------------+----------+----------------+\n",
            "|        Afghanistan|  38041754|           Kabul|\n",
            "|            Albania|   2880917|          Tirana|\n",
            "|            Algeria|  43053054|         Algiers|\n",
            "|     American Samoa|     55312|       Pago Pago|\n",
            "|            Andorra|     77142|Andorra la Vella|\n",
            "|             Angola|  31825295|          Luanda|\n",
            "|           Anguilla|     14869|      The Valley|\n",
            "|         Antarctica|      1106| McMurdo Station|\n",
            "|Antigua and Barbuda|     97118|      St. John's|\n",
            "|          Argentina|  44780677|    Buenos Aires|\n",
            "|            Armenia|   2957731|         Yerevan|\n",
            "|              Aruba|    106314|      Oranjestad|\n",
            "|          Australia|  25203198|        Canberra|\n",
            "|            Austria|   8955102|          Vienna|\n",
            "|         Azerbaijan|  10047718|            Baku|\n",
            "|            Bahamas|    389482|          Nassau|\n",
            "|            Bahrain|   1641172|          Manama|\n",
            "|         Bangladesh| 163046161|           Dhaka|\n",
            "|           Barbados|    287025|      Bridgetown|\n",
            "|            Belarus|   9452411|           Minsk|\n",
            "+-------------------+----------+----------------+\n",
            "only showing top 20 rows\n",
            "\n"
          ]
        }
      ]
    },
    {
      "cell_type": "code",
      "source": [
        "countries_df.select(col('NAME'), col('POPULATION'), col('CAPITAL')).withColumnRenamed('NAME', 'COUNTRY_NAME').show()"
      ],
      "metadata": {
        "colab": {
          "base_uri": "https://localhost:8080/"
        },
        "id": "fKO4KCGyt2oq",
        "outputId": "24a021f0-8332-44d9-e05e-d172b7091625"
      },
      "execution_count": null,
      "outputs": [
        {
          "output_type": "stream",
          "name": "stdout",
          "text": [
            "+-------------------+----------+----------------+\n",
            "|       COUNTRY_NAME|POPULATION|         CAPITAL|\n",
            "+-------------------+----------+----------------+\n",
            "|        Afghanistan|  38041754|           Kabul|\n",
            "|            Albania|   2880917|          Tirana|\n",
            "|            Algeria|  43053054|         Algiers|\n",
            "|     American Samoa|     55312|       Pago Pago|\n",
            "|            Andorra|     77142|Andorra la Vella|\n",
            "|             Angola|  31825295|          Luanda|\n",
            "|           Anguilla|     14869|      The Valley|\n",
            "|         Antarctica|      1106| McMurdo Station|\n",
            "|Antigua and Barbuda|     97118|      St. John's|\n",
            "|          Argentina|  44780677|    Buenos Aires|\n",
            "|            Armenia|   2957731|         Yerevan|\n",
            "|              Aruba|    106314|      Oranjestad|\n",
            "|          Australia|  25203198|        Canberra|\n",
            "|            Austria|   8955102|          Vienna|\n",
            "|         Azerbaijan|  10047718|            Baku|\n",
            "|            Bahamas|    389482|          Nassau|\n",
            "|            Bahrain|   1641172|          Manama|\n",
            "|         Bangladesh| 163046161|           Dhaka|\n",
            "|           Barbados|    287025|      Bridgetown|\n",
            "|            Belarus|   9452411|           Minsk|\n",
            "+-------------------+----------+----------------+\n",
            "only showing top 20 rows\n",
            "\n"
          ]
        }
      ]
    },
    {
      "cell_type": "code",
      "source": [
        "from pyspark.sql.functions import *\n",
        "\n",
        "countries_df.withColumn('current_date', current_date()).show()"
      ],
      "metadata": {
        "colab": {
          "base_uri": "https://localhost:8080/"
        },
        "id": "6gBGVss6uRUI",
        "outputId": "86d0f1af-776a-468d-fc79-c52b7ac29cdf"
      },
      "execution_count": null,
      "outputs": [
        {
          "output_type": "stream",
          "name": "stdout",
          "text": [
            "+----------+-------------------+--------------------+------------+----------+----------------+----------+---------+---------+-------------+----------------------+----------------------+------------+\n",
            "|COUNTRY_ID|               NAME|         NATIONALITY|COUNTRY_CODE|ISO_ALPHA2|         CAPITAL|POPULATION| AREA_KM2|REGION_ID|SUB_REGION_ID|INTERMEDIATE_REGION_ID|ORGANIZATION_REGION_ID|current_date|\n",
            "+----------+-------------------+--------------------+------------+----------+----------------+----------+---------+---------+-------------+----------------------+----------------------+------------+\n",
            "|         1|        Afghanistan|              Afghan|         AFG|        AF|           Kabul|  38041754| 652230.0|       30|           30|                  NULL|                    30|  2024-06-02|\n",
            "|         2|            Albania|            Albanian|         ALB|        AL|          Tirana|   2880917|  28748.0|       20|           70|                  NULL|                    20|  2024-06-02|\n",
            "|         3|            Algeria|            Algerian|         DZA|        DZ|         Algiers|  43053054|2381741.0|       50|           40|                  NULL|                    20|  2024-06-02|\n",
            "|         4|     American Samoa|     American Samoan|         ASM|        AS|       Pago Pago|     55312|    199.0|       40|           20|                  NULL|                    30|  2024-06-02|\n",
            "|         5|            Andorra|            Andorran|         AND|        AD|Andorra la Vella|     77142|    468.0|       20|           70|                  NULL|                    20|  2024-06-02|\n",
            "|         6|             Angola|             Angolan|         AGO|        AO|          Luanda|  31825295|1246700.0|       50|          160|                    80|                    20|  2024-06-02|\n",
            "|         7|           Anguilla|           Anguillan|         AIA|        AI|      The Valley|     14869|     91.0|       10|           10|                    60|                    40|  2024-06-02|\n",
            "|         8|         Antarctica|           Antarctic|         ATA|        AQ| McMurdo Station|      1106|   1.42E7|       40|         NULL|                  NULL|                    30|  2024-06-02|\n",
            "|         9|Antigua and Barbuda|Antiguan or Barbudan|         ATG|        AG|      St. John's|     97118|    442.0|       10|           10|                    60|                    40|  2024-06-02|\n",
            "|        10|          Argentina|           Argentine|         ARG|        AR|    Buenos Aires|  44780677|2780400.0|       10|           10|                    40|                    40|  2024-06-02|\n",
            "|        11|            Armenia|            Armenian|         ARM|        AM|         Yerevan|   2957731|  29743.0|       30|          170|                  NULL|                    30|  2024-06-02|\n",
            "|        12|              Aruba|              Aruban|         ABW|        AW|      Oranjestad|    106314|    180.0|       10|           10|                    60|                    40|  2024-06-02|\n",
            "|        13|          Australia|          Australian|         AUS|        AU|        Canberra|  25203198|7692024.0|       40|           90|                  NULL|                    30|  2024-06-02|\n",
            "|        14|            Austria|            Austrian|         AUT|        AT|          Vienna|   8955102|  83871.0|       20|          150|                  NULL|                    20|  2024-06-02|\n",
            "|        15|         Azerbaijan|         Azerbaijani|         AZE|        AZ|            Baku|  10047718|  86600.0|       30|          170|                  NULL|                    30|  2024-06-02|\n",
            "|        16|            Bahamas|            Bahamian|         BHS|        BS|          Nassau|    389482|  13943.0|       10|           10|                    60|                    40|  2024-06-02|\n",
            "|        17|            Bahrain|            Bahraini|         BHR|        BH|          Manama|   1641172|    765.0|       30|          170|                  NULL|                    30|  2024-06-02|\n",
            "|        18|         Bangladesh|         Bangladeshi|         BGD|        BD|           Dhaka| 163046161| 147570.0|       30|           30|                  NULL|                    30|  2024-06-02|\n",
            "|        19|           Barbados|           Barbadian|         BRB|        BB|      Bridgetown|    287025|    430.0|       10|           10|                    60|                    40|  2024-06-02|\n",
            "|        20|            Belarus|          Belarusian|         BLR|        BY|           Minsk|   9452411| 207600.0|       20|          140|                  NULL|                    20|  2024-06-02|\n",
            "+----------+-------------------+--------------------+------------+----------+----------------+----------+---------+---------+-------------+----------------------+----------------------+------------+\n",
            "only showing top 20 rows\n",
            "\n"
          ]
        }
      ]
    },
    {
      "cell_type": "code",
      "source": [
        "countries_df.withColumn('date_OF_TABLE', lit(\"20-10-2003\")).show()"
      ],
      "metadata": {
        "colab": {
          "base_uri": "https://localhost:8080/"
        },
        "id": "_xxl9_Xvu5la",
        "outputId": "3c2a52b3-0635-45de-9acc-38cd5e6282c4"
      },
      "execution_count": null,
      "outputs": [
        {
          "output_type": "stream",
          "name": "stdout",
          "text": [
            "+----------+-------------------+--------------------+------------+----------+----------------+----------+---------+---------+-------------+----------------------+----------------------+----------------------+-------------+\n",
            "|COUNTRY_ID|               NAME|         NATIONALITY|COUNTRY_CODE|ISO_ALPHA2|         CAPITAL|POPULATION| AREA_KM2|REGION_ID|SUB_REGION_ID|INTERMEDIATE_REGION_ID|ORGANIZATION_REGION_ID|POPULATION_IN_MILLIONS|date_OF_TABLE|\n",
            "+----------+-------------------+--------------------+------------+----------+----------------+----------+---------+---------+-------------+----------------------+----------------------+----------------------+-------------+\n",
            "|         1|        Afghanistan|              Afghan|         AFG|        AF|           Kabul|  38041754| 652230.0|       30|           30|                  NULL|                    30|             38.041754|   20-10-2003|\n",
            "|         2|            Albania|            Albanian|         ALB|        AL|          Tirana|   2880917|  28748.0|       20|           70|                  NULL|                    20|              2.880917|   20-10-2003|\n",
            "|         3|            Algeria|            Algerian|         DZA|        DZ|         Algiers|  43053054|2381741.0|       50|           40|                  NULL|                    20|             43.053054|   20-10-2003|\n",
            "|         4|     American Samoa|     American Samoan|         ASM|        AS|       Pago Pago|     55312|    199.0|       40|           20|                  NULL|                    30|              0.055312|   20-10-2003|\n",
            "|         5|            Andorra|            Andorran|         AND|        AD|Andorra la Vella|     77142|    468.0|       20|           70|                  NULL|                    20|              0.077142|   20-10-2003|\n",
            "|         6|             Angola|             Angolan|         AGO|        AO|          Luanda|  31825295|1246700.0|       50|          160|                    80|                    20|             31.825295|   20-10-2003|\n",
            "|         7|           Anguilla|           Anguillan|         AIA|        AI|      The Valley|     14869|     91.0|       10|           10|                    60|                    40|              0.014869|   20-10-2003|\n",
            "|         8|         Antarctica|           Antarctic|         ATA|        AQ| McMurdo Station|      1106|   1.42E7|       40|         NULL|                  NULL|                    30|              0.001106|   20-10-2003|\n",
            "|         9|Antigua and Barbuda|Antiguan or Barbudan|         ATG|        AG|      St. John's|     97118|    442.0|       10|           10|                    60|                    40|              0.097118|   20-10-2003|\n",
            "|        10|          Argentina|           Argentine|         ARG|        AR|    Buenos Aires|  44780677|2780400.0|       10|           10|                    40|                    40|             44.780677|   20-10-2003|\n",
            "|        11|            Armenia|            Armenian|         ARM|        AM|         Yerevan|   2957731|  29743.0|       30|          170|                  NULL|                    30|              2.957731|   20-10-2003|\n",
            "|        12|              Aruba|              Aruban|         ABW|        AW|      Oranjestad|    106314|    180.0|       10|           10|                    60|                    40|              0.106314|   20-10-2003|\n",
            "|        13|          Australia|          Australian|         AUS|        AU|        Canberra|  25203198|7692024.0|       40|           90|                  NULL|                    30|             25.203198|   20-10-2003|\n",
            "|        14|            Austria|            Austrian|         AUT|        AT|          Vienna|   8955102|  83871.0|       20|          150|                  NULL|                    20|              8.955102|   20-10-2003|\n",
            "|        15|         Azerbaijan|         Azerbaijani|         AZE|        AZ|            Baku|  10047718|  86600.0|       30|          170|                  NULL|                    30|             10.047718|   20-10-2003|\n",
            "|        16|            Bahamas|            Bahamian|         BHS|        BS|          Nassau|    389482|  13943.0|       10|           10|                    60|                    40|              0.389482|   20-10-2003|\n",
            "|        17|            Bahrain|            Bahraini|         BHR|        BH|          Manama|   1641172|    765.0|       30|          170|                  NULL|                    30|              1.641172|   20-10-2003|\n",
            "|        18|         Bangladesh|         Bangladeshi|         BGD|        BD|           Dhaka| 163046161| 147570.0|       30|           30|                  NULL|                    30|            163.046161|   20-10-2003|\n",
            "|        19|           Barbados|           Barbadian|         BRB|        BB|      Bridgetown|    287025|    430.0|       10|           10|                    60|                    40|              0.287025|   20-10-2003|\n",
            "|        20|            Belarus|          Belarusian|         BLR|        BY|           Minsk|   9452411| 207600.0|       20|          140|                  NULL|                    20|              9.452411|   20-10-2003|\n",
            "+----------+-------------------+--------------------+------------+----------+----------------+----------+---------+---------+-------------+----------------------+----------------------+----------------------+-------------+\n",
            "only showing top 20 rows\n",
            "\n"
          ]
        }
      ]
    },
    {
      "cell_type": "code",
      "source": [],
      "metadata": {
        "id": "Zvp5G2pxwdrk"
      },
      "execution_count": null,
      "outputs": []
    },
    {
      "cell_type": "code",
      "source": [
        "countries_df = countries_df.withColumn('POPULATION_IN_MILLIONS', col('POPULATION')/1000000)"
      ],
      "metadata": {
        "id": "XUyUQjetvX2y"
      },
      "execution_count": null,
      "outputs": []
    },
    {
      "cell_type": "code",
      "source": [
        "countries_df.printSchema()"
      ],
      "metadata": {
        "colab": {
          "base_uri": "https://localhost:8080/"
        },
        "id": "PCUyCtuCwBvY",
        "outputId": "48497630-b134-4bcb-af51-8ada12570c6f"
      },
      "execution_count": null,
      "outputs": [
        {
          "output_type": "stream",
          "name": "stdout",
          "text": [
            "root\n",
            " |-- COUNTRY_ID: integer (nullable = true)\n",
            " |-- NAME: string (nullable = true)\n",
            " |-- NATIONALITY: string (nullable = true)\n",
            " |-- COUNTRY_CODE: string (nullable = true)\n",
            " |-- ISO_ALPHA2: string (nullable = true)\n",
            " |-- CAPITAL: string (nullable = true)\n",
            " |-- POPULATION: integer (nullable = true)\n",
            " |-- AREA_KM2: double (nullable = true)\n",
            " |-- REGION_ID: integer (nullable = true)\n",
            " |-- SUB_REGION_ID: integer (nullable = true)\n",
            " |-- INTERMEDIATE_REGION_ID: integer (nullable = true)\n",
            " |-- ORGANIZATION_REGION_ID: integer (nullable = true)\n",
            " |-- POPULATION_IN_MILLIONS: double (nullable = true)\n",
            "\n"
          ]
        }
      ]
    },
    {
      "cell_type": "code",
      "source": [
        "countries_df.filter(\"region_id !=10 and population == 0\").show()"
      ],
      "metadata": {
        "colab": {
          "base_uri": "https://localhost:8080/"
        },
        "id": "0yt3fvpjwFL8",
        "outputId": "7af4107a-10f3-4870-9bdc-fed3bd214328"
      },
      "execution_count": null,
      "outputs": [
        {
          "output_type": "stream",
          "name": "stdout",
          "text": [
            "+----------+--------------------+--------------------+------------+----------+-------+----------+--------+---------+-------------+----------------------+----------------------+----------------------+\n",
            "|COUNTRY_ID|                NAME|         NATIONALITY|COUNTRY_CODE|ISO_ALPHA2|CAPITAL|POPULATION|AREA_KM2|REGION_ID|SUB_REGION_ID|INTERMEDIATE_REGION_ID|ORGANIZATION_REGION_ID|POPULATION_IN_MILLIONS|\n",
            "+----------+--------------------+--------------------+------------+----------+-------+----------+--------+---------+-------------+----------------------+----------------------+----------------------+\n",
            "|        97|Heard Island and ...|Heard Island or M...|         HMD|        HM|   NULL|         0|   368.0|       40|           90|                  NULL|                    30|                   0.0|\n",
            "+----------+--------------------+--------------------+------------+----------+-------+----------+--------+---------+-------------+----------------------+----------------------+----------------------+\n",
            "\n"
          ]
        }
      ]
    },
    {
      "cell_type": "code",
      "source": [
        "from pyspark.sql.functions import when\n",
        "\n",
        "countries_df.withColumn('NAME_LENGTH', when(col('CAPITAL').isNull(), 0).otherwise(length(col('CAPITAL')))).show()"
      ],
      "metadata": {
        "colab": {
          "base_uri": "https://localhost:8080/"
        },
        "id": "U5N_kY5ixLJD",
        "outputId": "52d9316e-974b-4854-b03e-755c62667fcd"
      },
      "execution_count": null,
      "outputs": [
        {
          "output_type": "stream",
          "name": "stdout",
          "text": [
            "+----------+-------------------+--------------------+------------+----------+----------------+----------+---------+---------+-------------+----------------------+----------------------+----------------------+-----------+\n",
            "|COUNTRY_ID|               NAME|         NATIONALITY|COUNTRY_CODE|ISO_ALPHA2|         CAPITAL|POPULATION| AREA_KM2|REGION_ID|SUB_REGION_ID|INTERMEDIATE_REGION_ID|ORGANIZATION_REGION_ID|POPULATION_IN_MILLIONS|NAME_LENGTH|\n",
            "+----------+-------------------+--------------------+------------+----------+----------------+----------+---------+---------+-------------+----------------------+----------------------+----------------------+-----------+\n",
            "|         1|        Afghanistan|              Afghan|         AFG|        AF|           Kabul|  38041754| 652230.0|       30|           30|                  NULL|                    30|             38.041754|          5|\n",
            "|         2|            Albania|            Albanian|         ALB|        AL|          Tirana|   2880917|  28748.0|       20|           70|                  NULL|                    20|              2.880917|          6|\n",
            "|         3|            Algeria|            Algerian|         DZA|        DZ|         Algiers|  43053054|2381741.0|       50|           40|                  NULL|                    20|             43.053054|          7|\n",
            "|         4|     American Samoa|     American Samoan|         ASM|        AS|       Pago Pago|     55312|    199.0|       40|           20|                  NULL|                    30|              0.055312|          9|\n",
            "|         5|            Andorra|            Andorran|         AND|        AD|Andorra la Vella|     77142|    468.0|       20|           70|                  NULL|                    20|              0.077142|         16|\n",
            "|         6|             Angola|             Angolan|         AGO|        AO|          Luanda|  31825295|1246700.0|       50|          160|                    80|                    20|             31.825295|          6|\n",
            "|         7|           Anguilla|           Anguillan|         AIA|        AI|      The Valley|     14869|     91.0|       10|           10|                    60|                    40|              0.014869|         10|\n",
            "|         8|         Antarctica|           Antarctic|         ATA|        AQ| McMurdo Station|      1106|   1.42E7|       40|         NULL|                  NULL|                    30|              0.001106|         15|\n",
            "|         9|Antigua and Barbuda|Antiguan or Barbudan|         ATG|        AG|      St. John's|     97118|    442.0|       10|           10|                    60|                    40|              0.097118|         10|\n",
            "|        10|          Argentina|           Argentine|         ARG|        AR|    Buenos Aires|  44780677|2780400.0|       10|           10|                    40|                    40|             44.780677|         12|\n",
            "|        11|            Armenia|            Armenian|         ARM|        AM|         Yerevan|   2957731|  29743.0|       30|          170|                  NULL|                    30|              2.957731|          7|\n",
            "|        12|              Aruba|              Aruban|         ABW|        AW|      Oranjestad|    106314|    180.0|       10|           10|                    60|                    40|              0.106314|         10|\n",
            "|        13|          Australia|          Australian|         AUS|        AU|        Canberra|  25203198|7692024.0|       40|           90|                  NULL|                    30|             25.203198|          8|\n",
            "|        14|            Austria|            Austrian|         AUT|        AT|          Vienna|   8955102|  83871.0|       20|          150|                  NULL|                    20|              8.955102|          6|\n",
            "|        15|         Azerbaijan|         Azerbaijani|         AZE|        AZ|            Baku|  10047718|  86600.0|       30|          170|                  NULL|                    30|             10.047718|          4|\n",
            "|        16|            Bahamas|            Bahamian|         BHS|        BS|          Nassau|    389482|  13943.0|       10|           10|                    60|                    40|              0.389482|          6|\n",
            "|        17|            Bahrain|            Bahraini|         BHR|        BH|          Manama|   1641172|    765.0|       30|          170|                  NULL|                    30|              1.641172|          6|\n",
            "|        18|         Bangladesh|         Bangladeshi|         BGD|        BD|           Dhaka| 163046161| 147570.0|       30|           30|                  NULL|                    30|            163.046161|          5|\n",
            "|        19|           Barbados|           Barbadian|         BRB|        BB|      Bridgetown|    287025|    430.0|       10|           10|                    60|                    40|              0.287025|         10|\n",
            "|        20|            Belarus|          Belarusian|         BLR|        BY|           Minsk|   9452411| 207600.0|       20|          140|                  NULL|                    20|              9.452411|          5|\n",
            "+----------+-------------------+--------------------+------------+----------+----------------+----------+---------+---------+-------------+----------------------+----------------------+----------------------+-----------+\n",
            "only showing top 20 rows\n",
            "\n"
          ]
        }
      ]
    },
    {
      "cell_type": "code",
      "source": [
        "countries_df.groupBy('REGION_ID').count().show()"
      ],
      "metadata": {
        "colab": {
          "base_uri": "https://localhost:8080/"
        },
        "id": "RIrCW6v6ybGI",
        "outputId": "181650ce-f690-475f-afa8-1881f298751f"
      },
      "execution_count": null,
      "outputs": [
        {
          "output_type": "stream",
          "name": "stdout",
          "text": [
            "+---------+-----+\n",
            "|REGION_ID|count|\n",
            "+---------+-----+\n",
            "|       20|   51|\n",
            "|       40|   30|\n",
            "|       10|   57|\n",
            "|       50|   60|\n",
            "|       30|   51|\n",
            "+---------+-----+\n",
            "\n"
          ]
        }
      ]
    },
    {
      "cell_type": "code",
      "source": [
        "#countries_df.groupBy('REGION_ID').sum('population').avg('AREA_KM2').show()"
      ],
      "metadata": {
        "colab": {
          "base_uri": "https://localhost:8080/",
          "height": 270
        },
        "id": "ZX9H_i4R3anv",
        "outputId": "aa492533-c23c-4821-ef45-58f1f7ba7be6"
      },
      "execution_count": null,
      "outputs": [
        {
          "output_type": "error",
          "ename": "AttributeError",
          "evalue": "'DataFrame' object has no attribute 'avg'",
          "traceback": [
            "\u001b[0;31m---------------------------------------------------------------------------\u001b[0m",
            "\u001b[0;31mAttributeError\u001b[0m                            Traceback (most recent call last)",
            "\u001b[0;32m<ipython-input-37-b4d971493268>\u001b[0m in \u001b[0;36m<cell line: 1>\u001b[0;34m()\u001b[0m\n\u001b[0;32m----> 1\u001b[0;31m \u001b[0mcountries_df\u001b[0m\u001b[0;34m.\u001b[0m\u001b[0mgroupBy\u001b[0m\u001b[0;34m(\u001b[0m\u001b[0;34m'REGION_ID'\u001b[0m\u001b[0;34m)\u001b[0m\u001b[0;34m.\u001b[0m\u001b[0msum\u001b[0m\u001b[0;34m(\u001b[0m\u001b[0;34m'population'\u001b[0m\u001b[0;34m)\u001b[0m\u001b[0;34m.\u001b[0m\u001b[0mavg\u001b[0m\u001b[0;34m(\u001b[0m\u001b[0;34m'AREA_KM2'\u001b[0m\u001b[0;34m)\u001b[0m\u001b[0;34m.\u001b[0m\u001b[0mshow\u001b[0m\u001b[0;34m(\u001b[0m\u001b[0;34m)\u001b[0m\u001b[0;34m\u001b[0m\u001b[0;34m\u001b[0m\u001b[0m\n\u001b[0m",
            "\u001b[0;32m/usr/local/lib/python3.10/dist-packages/pyspark/sql/dataframe.py\u001b[0m in \u001b[0;36m__getattr__\u001b[0;34m(self, name)\u001b[0m\n\u001b[1;32m   3125\u001b[0m         \"\"\"\n\u001b[1;32m   3126\u001b[0m         \u001b[0;32mif\u001b[0m \u001b[0mname\u001b[0m \u001b[0;32mnot\u001b[0m \u001b[0;32min\u001b[0m \u001b[0mself\u001b[0m\u001b[0;34m.\u001b[0m\u001b[0mcolumns\u001b[0m\u001b[0;34m:\u001b[0m\u001b[0;34m\u001b[0m\u001b[0;34m\u001b[0m\u001b[0m\n\u001b[0;32m-> 3127\u001b[0;31m             raise AttributeError(\n\u001b[0m\u001b[1;32m   3128\u001b[0m                 \u001b[0;34m\"'%s' object has no attribute '%s'\"\u001b[0m \u001b[0;34m%\u001b[0m \u001b[0;34m(\u001b[0m\u001b[0mself\u001b[0m\u001b[0;34m.\u001b[0m\u001b[0m__class__\u001b[0m\u001b[0;34m.\u001b[0m\u001b[0m__name__\u001b[0m\u001b[0;34m,\u001b[0m \u001b[0mname\u001b[0m\u001b[0;34m)\u001b[0m\u001b[0;34m\u001b[0m\u001b[0;34m\u001b[0m\u001b[0m\n\u001b[1;32m   3129\u001b[0m             )\n",
            "\u001b[0;31mAttributeError\u001b[0m: 'DataFrame' object has no attribute 'avg'"
          ]
        }
      ]
    },
    {
      "cell_type": "code",
      "source": [
        "countries_df.groupBy('REGION_ID').agg({'POPULATION': 'sum', 'AREA_KM2': 'avg'}).show()"
      ],
      "metadata": {
        "colab": {
          "base_uri": "https://localhost:8080/"
        },
        "id": "jVMaa_1D3-Cr",
        "outputId": "331b617a-198e-4d8b-9076-6ddc10c4c8c1"
      },
      "execution_count": null,
      "outputs": [
        {
          "output_type": "stream",
          "name": "stdout",
          "text": [
            "+---------+---------------+------------------+\n",
            "|REGION_ID|sum(POPULATION)|     avg(AREA_KM2)|\n",
            "+---------+---------------+------------------+\n",
            "|       20|      747205974| 452237.8325490196|\n",
            "|       40|       42133644| 757190.3333333334|\n",
            "|       10|     1014721683| 738277.8947368421|\n",
            "|       50|     1308067919|512636.61666666664|\n",
            "|       30|     4601371198| 630341.0196078431|\n",
            "+---------+---------------+------------------+\n",
            "\n"
          ]
        }
      ]
    },
    {
      "cell_type": "code",
      "source": [
        "countries_df.show()"
      ],
      "metadata": {
        "colab": {
          "base_uri": "https://localhost:8080/"
        },
        "id": "NtJtVBw-4MRl",
        "outputId": "dbd146bd-526f-433c-feeb-635884d1ff6b"
      },
      "execution_count": null,
      "outputs": [
        {
          "output_type": "stream",
          "name": "stdout",
          "text": [
            "+----------+-------------------+--------------------+------------+----------+----------------+----------+---------+---------+-------------+----------------------+----------------------+----------------------+\n",
            "|COUNTRY_ID|               NAME|         NATIONALITY|COUNTRY_CODE|ISO_ALPHA2|         CAPITAL|POPULATION| AREA_KM2|REGION_ID|SUB_REGION_ID|INTERMEDIATE_REGION_ID|ORGANIZATION_REGION_ID|POPULATION_IN_MILLIONS|\n",
            "+----------+-------------------+--------------------+------------+----------+----------------+----------+---------+---------+-------------+----------------------+----------------------+----------------------+\n",
            "|         1|        Afghanistan|              Afghan|         AFG|        AF|           Kabul|  38041754| 652230.0|       30|           30|                  NULL|                    30|             38.041754|\n",
            "|         2|            Albania|            Albanian|         ALB|        AL|          Tirana|   2880917|  28748.0|       20|           70|                  NULL|                    20|              2.880917|\n",
            "|         3|            Algeria|            Algerian|         DZA|        DZ|         Algiers|  43053054|2381741.0|       50|           40|                  NULL|                    20|             43.053054|\n",
            "|         4|     American Samoa|     American Samoan|         ASM|        AS|       Pago Pago|     55312|    199.0|       40|           20|                  NULL|                    30|              0.055312|\n",
            "|         5|            Andorra|            Andorran|         AND|        AD|Andorra la Vella|     77142|    468.0|       20|           70|                  NULL|                    20|              0.077142|\n",
            "|         6|             Angola|             Angolan|         AGO|        AO|          Luanda|  31825295|1246700.0|       50|          160|                    80|                    20|             31.825295|\n",
            "|         7|           Anguilla|           Anguillan|         AIA|        AI|      The Valley|     14869|     91.0|       10|           10|                    60|                    40|              0.014869|\n",
            "|         8|         Antarctica|           Antarctic|         ATA|        AQ| McMurdo Station|      1106|   1.42E7|       40|         NULL|                  NULL|                    30|              0.001106|\n",
            "|         9|Antigua and Barbuda|Antiguan or Barbudan|         ATG|        AG|      St. John's|     97118|    442.0|       10|           10|                    60|                    40|              0.097118|\n",
            "|        10|          Argentina|           Argentine|         ARG|        AR|    Buenos Aires|  44780677|2780400.0|       10|           10|                    40|                    40|             44.780677|\n",
            "|        11|            Armenia|            Armenian|         ARM|        AM|         Yerevan|   2957731|  29743.0|       30|          170|                  NULL|                    30|              2.957731|\n",
            "|        12|              Aruba|              Aruban|         ABW|        AW|      Oranjestad|    106314|    180.0|       10|           10|                    60|                    40|              0.106314|\n",
            "|        13|          Australia|          Australian|         AUS|        AU|        Canberra|  25203198|7692024.0|       40|           90|                  NULL|                    30|             25.203198|\n",
            "|        14|            Austria|            Austrian|         AUT|        AT|          Vienna|   8955102|  83871.0|       20|          150|                  NULL|                    20|              8.955102|\n",
            "|        15|         Azerbaijan|         Azerbaijani|         AZE|        AZ|            Baku|  10047718|  86600.0|       30|          170|                  NULL|                    30|             10.047718|\n",
            "|        16|            Bahamas|            Bahamian|         BHS|        BS|          Nassau|    389482|  13943.0|       10|           10|                    60|                    40|              0.389482|\n",
            "|        17|            Bahrain|            Bahraini|         BHR|        BH|          Manama|   1641172|    765.0|       30|          170|                  NULL|                    30|              1.641172|\n",
            "|        18|         Bangladesh|         Bangladeshi|         BGD|        BD|           Dhaka| 163046161| 147570.0|       30|           30|                  NULL|                    30|            163.046161|\n",
            "|        19|           Barbados|           Barbadian|         BRB|        BB|      Bridgetown|    287025|    430.0|       10|           10|                    60|                    40|              0.287025|\n",
            "|        20|            Belarus|          Belarusian|         BLR|        BY|           Minsk|   9452411| 207600.0|       20|          140|                  NULL|                    20|              9.452411|\n",
            "+----------+-------------------+--------------------+------------+----------+----------------+----------+---------+---------+-------------+----------------------+----------------------+----------------------+\n",
            "only showing top 20 rows\n",
            "\n"
          ]
        }
      ]
    },
    {
      "cell_type": "code",
      "source": [
        "countries_regions_df = spark.read.csv('/content/country_regions.csv', header = True, inferSchema = True)\n",
        "countries_regions_df.show()"
      ],
      "metadata": {
        "colab": {
          "base_uri": "https://localhost:8080/"
        },
        "id": "MuN63bWn4_Ju",
        "outputId": "db7ff13a-b5f7-4c7d-d8ce-9d256a928384"
      },
      "execution_count": null,
      "outputs": [
        {
          "output_type": "stream",
          "name": "stdout",
          "text": [
            "+---+-------+\n",
            "| ID|   NAME|\n",
            "+---+-------+\n",
            "| 10|America|\n",
            "| 20| Europe|\n",
            "| 30|   Asia|\n",
            "| 40|Oceania|\n",
            "| 50| Africa|\n",
            "+---+-------+\n",
            "\n"
          ]
        }
      ]
    },
    {
      "cell_type": "code",
      "source": [
        "countries_df.join(countries_regions_df, countries_df.REGION_ID == countries_regions_df.ID, 'rightouter').show()"
      ],
      "metadata": {
        "colab": {
          "base_uri": "https://localhost:8080/"
        },
        "id": "Z18wCNgx5Nf4",
        "outputId": "ed197d76-f105-4e49-c4f1-0c5ca54ffe1b"
      },
      "execution_count": null,
      "outputs": [
        {
          "output_type": "stream",
          "name": "stdout",
          "text": [
            "+----------+--------------------+--------------------+------------+----------+----------------+----------+---------+---------+-------------+----------------------+----------------------+----------------------+---+-------+\n",
            "|COUNTRY_ID|                NAME|         NATIONALITY|COUNTRY_CODE|ISO_ALPHA2|         CAPITAL|POPULATION| AREA_KM2|REGION_ID|SUB_REGION_ID|INTERMEDIATE_REGION_ID|ORGANIZATION_REGION_ID|POPULATION_IN_MILLIONS| ID|   NAME|\n",
            "+----------+--------------------+--------------------+------------+----------+----------------+----------+---------+---------+-------------+----------------------+----------------------+----------------------+---+-------+\n",
            "|       243|Virgin Islands (U...|  U.S. Virgin Island|         VIR|        VI|Charlotte Amalie|    104578|    347.0|       10|           10|                    60|                    40|              0.104578| 10|America|\n",
            "|       242|Virgin Islands (B...|British Virgin Is...|         VGB|        VG|       Road Town|     30030|    151.0|       10|           10|                    60|                    40|               0.03003| 10|America|\n",
            "|       240|Venezuela (Boliva...|          Venezuelan|         VEN|        VE|         Caracas|  28515829| 916445.0|       10|           10|                    40|                    40|             28.515829| 10|America|\n",
            "|       237|             Uruguay|           Uruguayan|         URY|        UY|      Montevideo|   3461734| 181034.0|       10|           10|                    40|                    40|              3.461734| 10|America|\n",
            "|       236|United States of ...|            American|         USA|        US|Washington, D.C.| 329064917|9372610.0|       10|           80|                  NULL|                    10|            329.064917| 10|America|\n",
            "|       229|Turks and Caicos ...|Turks and Caicos ...|         TCA|        TC|   Cockburn Town|     38191|    948.0|       10|           10|                    60|                    40|              0.038191| 10|America|\n",
            "|       225| Trinidad and Tobago|Trinidadian or To...|         TTO|        TT|   Port of Spain|   1394973|   5130.0|       10|           10|                    60|                    40|              1.394973| 10|America|\n",
            "|       212|            Suriname|          Surinamese|         SUR|        SR|      Paramaribo|    581372| 163820.0|       10|           10|                    40|                    40|              0.581372| 10|America|\n",
            "|       206|South Georgia and...|South Georgia or ...|         SGS|        GS|       Grytviken|        30|   3903.0|       10|           10|                    40|                    40|                3.0E-5| 10|America|\n",
            "|       200|Sint Maarten (Dut...|        Sint Maarten|         SXM|        SX|     Philipsburg|     42388|     34.0|       10|           10|                    60|                    40|              0.042388| 10|America|\n",
            "|       190|Saint Vincent and...|    Saint Vincentian|         VCT|        VC|       Kingstown|    110589|    389.0|       10|           10|                    60|                    40|              0.110589| 10|America|\n",
            "|       189|Saint Pierre and ...|Saint-Pierrais or...|         SPM|        PM|      St. Pierre|      5822|    242.0|       10|           80|                  NULL|                    40|              0.005822| 10|America|\n",
            "|       188|Saint Martin (Fre...|    Saint-Martinoise|         MAF|        MF|         Marigot|     38002|     53.0|       10|           10|                    60|                    40|              0.038002| 10|America|\n",
            "|       187|         Saint Lucia|        Saint Lucian|         LCA|        LC|        Castries|    182790|    616.0|       10|           10|                    60|                    40|               0.18279| 10|America|\n",
            "|       186|Saint Kitts and N...|Kittitian or Nevi...|         KNA|        KN|      Basseterre|     52823|    261.0|       10|           10|                    60|                    40|              0.052823| 10|America|\n",
            "|       184|    Saint Barth�lemy|        Barth�lemois|         BLM|        BL|        Gustavia|      9847|     21.0|       10|           10|                    60|                    40|              0.009847| 10|America|\n",
            "|       178|         Puerto Rico|        Puerto Rican|         PRI|        PR|        San Juan|   2933408|   8870.0|       10|           10|                    60|                    40|              2.933408| 10|America|\n",
            "|       173|                Peru|            Peruvian|         PER|        PE|            Lima|  32510453|1285216.0|       10|           10|                    40|                    40|             32.510453| 10|America|\n",
            "|       172|            Paraguay|          Paraguayan|         PRY|        PY|        Asunci�n|   7044636| 406752.0|       10|           10|                    40|                    40|              7.044636| 10|America|\n",
            "|       170|              Panama|          Panamanian|         PAN|        PA|     Panama City|   4246439|  75417.0|       10|           10|                    20|                    40|              4.246439| 10|America|\n",
            "+----------+--------------------+--------------------+------------+----------+----------------+----------+---------+---------+-------------+----------------------+----------------------+----------------------+---+-------+\n",
            "only showing top 20 rows\n",
            "\n"
          ]
        }
      ]
    },
    {
      "cell_type": "code",
      "source": [
        "import pandas as pd\n",
        "\n",
        "countries_pd = countries_df.toPandas()\n",
        "\n",
        "type(countries_pd)"
      ],
      "metadata": {
        "colab": {
          "base_uri": "https://localhost:8080/",
          "height": 203
        },
        "id": "tfHu3Q6J5tiq",
        "outputId": "46d7adac-90af-4605-fcfc-590fdf972127"
      },
      "execution_count": null,
      "outputs": [
        {
          "output_type": "execute_result",
          "data": {
            "text/plain": [
              "pandas.core.frame.DataFrame"
            ],
            "text/html": [
              "<div style=\"max-width:800px; border: 1px solid var(--colab-border-color);\"><style>\n",
              "      pre.function-repr-contents {\n",
              "        overflow-x: auto;\n",
              "        padding: 8px 12px;\n",
              "        max-height: 500px;\n",
              "      }\n",
              "\n",
              "      pre.function-repr-contents.function-repr-contents-collapsed {\n",
              "        cursor: pointer;\n",
              "        max-height: 100px;\n",
              "      }\n",
              "    </style>\n",
              "    <pre style=\"white-space: initial; background:\n",
              "         var(--colab-secondary-surface-color); padding: 8px 12px;\n",
              "         border-bottom: 1px solid var(--colab-border-color);\"><b>pandas.core.frame.DataFrame</b><br/>def __init__(data=None, index: Axes | None=None, columns: Axes | None=None, dtype: Dtype | None=None, copy: bool | None=None) -&gt; None</pre><pre class=\"function-repr-contents function-repr-contents-collapsed\" style=\"\"><a class=\"filepath\" style=\"display:none\" href=\"#\">/usr/local/lib/python3.10/dist-packages/pandas/core/frame.py</a>Two-dimensional, size-mutable, potentially heterogeneous tabular data.\n",
              "\n",
              "Data structure also contains labeled axes (rows and columns).\n",
              "Arithmetic operations align on both row and column labels. Can be\n",
              "thought of as a dict-like container for Series objects. The primary\n",
              "pandas data structure.\n",
              "\n",
              "Parameters\n",
              "----------\n",
              "data : ndarray (structured or homogeneous), Iterable, dict, or DataFrame\n",
              "    Dict can contain Series, arrays, constants, dataclass or list-like objects. If\n",
              "    data is a dict, column order follows insertion-order. If a dict contains Series\n",
              "    which have an index defined, it is aligned by its index. This alignment also\n",
              "    occurs if data is a Series or a DataFrame itself. Alignment is done on\n",
              "    Series/DataFrame inputs.\n",
              "\n",
              "    If data is a list of dicts, column order follows insertion-order.\n",
              "\n",
              "index : Index or array-like\n",
              "    Index to use for resulting frame. Will default to RangeIndex if\n",
              "    no indexing information part of input data and no index provided.\n",
              "columns : Index or array-like\n",
              "    Column labels to use for resulting frame when data does not have them,\n",
              "    defaulting to RangeIndex(0, 1, 2, ..., n). If data contains column labels,\n",
              "    will perform column selection instead.\n",
              "dtype : dtype, default None\n",
              "    Data type to force. Only a single dtype is allowed. If None, infer.\n",
              "copy : bool or None, default None\n",
              "    Copy data from inputs.\n",
              "    For dict data, the default of None behaves like ``copy=True``.  For DataFrame\n",
              "    or 2d ndarray input, the default of None behaves like ``copy=False``.\n",
              "    If data is a dict containing one or more Series (possibly of different dtypes),\n",
              "    ``copy=False`` will ensure that these inputs are not copied.\n",
              "\n",
              "    .. versionchanged:: 1.3.0\n",
              "\n",
              "See Also\n",
              "--------\n",
              "DataFrame.from_records : Constructor from tuples, also record arrays.\n",
              "DataFrame.from_dict : From dicts of Series, arrays, or dicts.\n",
              "read_csv : Read a comma-separated values (csv) file into DataFrame.\n",
              "read_table : Read general delimited file into DataFrame.\n",
              "read_clipboard : Read text from clipboard into DataFrame.\n",
              "\n",
              "Notes\n",
              "-----\n",
              "Please reference the :ref:`User Guide &lt;basics.dataframe&gt;` for more information.\n",
              "\n",
              "Examples\n",
              "--------\n",
              "Constructing DataFrame from a dictionary.\n",
              "\n",
              "&gt;&gt;&gt; d = {&#x27;col1&#x27;: [1, 2], &#x27;col2&#x27;: [3, 4]}\n",
              "&gt;&gt;&gt; df = pd.DataFrame(data=d)\n",
              "&gt;&gt;&gt; df\n",
              "   col1  col2\n",
              "0     1     3\n",
              "1     2     4\n",
              "\n",
              "Notice that the inferred dtype is int64.\n",
              "\n",
              "&gt;&gt;&gt; df.dtypes\n",
              "col1    int64\n",
              "col2    int64\n",
              "dtype: object\n",
              "\n",
              "To enforce a single dtype:\n",
              "\n",
              "&gt;&gt;&gt; df = pd.DataFrame(data=d, dtype=np.int8)\n",
              "&gt;&gt;&gt; df.dtypes\n",
              "col1    int8\n",
              "col2    int8\n",
              "dtype: object\n",
              "\n",
              "Constructing DataFrame from a dictionary including Series:\n",
              "\n",
              "&gt;&gt;&gt; d = {&#x27;col1&#x27;: [0, 1, 2, 3], &#x27;col2&#x27;: pd.Series([2, 3], index=[2, 3])}\n",
              "&gt;&gt;&gt; pd.DataFrame(data=d, index=[0, 1, 2, 3])\n",
              "   col1  col2\n",
              "0     0   NaN\n",
              "1     1   NaN\n",
              "2     2   2.0\n",
              "3     3   3.0\n",
              "\n",
              "Constructing DataFrame from numpy ndarray:\n",
              "\n",
              "&gt;&gt;&gt; df2 = pd.DataFrame(np.array([[1, 2, 3], [4, 5, 6], [7, 8, 9]]),\n",
              "...                    columns=[&#x27;a&#x27;, &#x27;b&#x27;, &#x27;c&#x27;])\n",
              "&gt;&gt;&gt; df2\n",
              "   a  b  c\n",
              "0  1  2  3\n",
              "1  4  5  6\n",
              "2  7  8  9\n",
              "\n",
              "Constructing DataFrame from a numpy ndarray that has labeled columns:\n",
              "\n",
              "&gt;&gt;&gt; data = np.array([(1, 2, 3), (4, 5, 6), (7, 8, 9)],\n",
              "...                 dtype=[(&quot;a&quot;, &quot;i4&quot;), (&quot;b&quot;, &quot;i4&quot;), (&quot;c&quot;, &quot;i4&quot;)])\n",
              "&gt;&gt;&gt; df3 = pd.DataFrame(data, columns=[&#x27;c&#x27;, &#x27;a&#x27;])\n",
              "...\n",
              "&gt;&gt;&gt; df3\n",
              "   c  a\n",
              "0  3  1\n",
              "1  6  4\n",
              "2  9  7\n",
              "\n",
              "Constructing DataFrame from dataclass:\n",
              "\n",
              "&gt;&gt;&gt; from dataclasses import make_dataclass\n",
              "&gt;&gt;&gt; Point = make_dataclass(&quot;Point&quot;, [(&quot;x&quot;, int), (&quot;y&quot;, int)])\n",
              "&gt;&gt;&gt; pd.DataFrame([Point(0, 0), Point(0, 3), Point(2, 3)])\n",
              "   x  y\n",
              "0  0  0\n",
              "1  0  3\n",
              "2  2  3\n",
              "\n",
              "Constructing DataFrame from Series/DataFrame:\n",
              "\n",
              "&gt;&gt;&gt; ser = pd.Series([1, 2, 3], index=[&quot;a&quot;, &quot;b&quot;, &quot;c&quot;])\n",
              "&gt;&gt;&gt; df = pd.DataFrame(data=ser, index=[&quot;a&quot;, &quot;c&quot;])\n",
              "&gt;&gt;&gt; df\n",
              "   0\n",
              "a  1\n",
              "c  3\n",
              "\n",
              "&gt;&gt;&gt; df1 = pd.DataFrame([1, 2, 3], index=[&quot;a&quot;, &quot;b&quot;, &quot;c&quot;], columns=[&quot;x&quot;])\n",
              "&gt;&gt;&gt; df2 = pd.DataFrame(data=df1, index=[&quot;a&quot;, &quot;c&quot;])\n",
              "&gt;&gt;&gt; df2\n",
              "   x\n",
              "a  1\n",
              "c  3</pre>\n",
              "      <script>\n",
              "      if (google.colab.kernel.accessAllowed && google.colab.files && google.colab.files.view) {\n",
              "        for (const element of document.querySelectorAll('.filepath')) {\n",
              "          element.style.display = 'block'\n",
              "          element.onclick = (event) => {\n",
              "            event.preventDefault();\n",
              "            event.stopPropagation();\n",
              "            google.colab.files.view(element.textContent, 490);\n",
              "          };\n",
              "        }\n",
              "      }\n",
              "      for (const element of document.querySelectorAll('.function-repr-contents')) {\n",
              "        element.onclick = (event) => {\n",
              "          event.preventDefault();\n",
              "          event.stopPropagation();\n",
              "          element.classList.toggle('function-repr-contents-collapsed');\n",
              "        };\n",
              "      }\n",
              "      </script>\n",
              "      </div>"
            ]
          },
          "metadata": {},
          "execution_count": 45
        }
      ]
    },
    {
      "cell_type": "code",
      "source": [
        "countries_pd.iloc[0]"
      ],
      "metadata": {
        "colab": {
          "base_uri": "https://localhost:8080/"
        },
        "id": "4JkqyICi6X3U",
        "outputId": "d35d5add-04cb-425d-f250-089469fc1812"
      },
      "execution_count": null,
      "outputs": [
        {
          "output_type": "execute_result",
          "data": {
            "text/plain": [
              "COUNTRY_ID                          1\n",
              "NAME                      Afghanistan\n",
              "NATIONALITY                    Afghan\n",
              "COUNTRY_CODE                      AFG\n",
              "ISO_ALPHA2                         AF\n",
              "CAPITAL                         Kabul\n",
              "POPULATION                   38041754\n",
              "AREA_KM2                     652230.0\n",
              "REGION_ID                          30\n",
              "SUB_REGION_ID                    30.0\n",
              "INTERMEDIATE_REGION_ID            NaN\n",
              "ORGANIZATION_REGION_ID             30\n",
              "POPULATION_IN_MILLIONS      38.041754\n",
              "Name: 0, dtype: object"
            ]
          },
          "metadata": {},
          "execution_count": 46
        }
      ]
    },
    {
      "cell_type": "code",
      "source": [
        "from pyspark.sql.functions import udf\n",
        "\n",
        "from pyspark.sql.types import *\n",
        "\n",
        "\n",
        "upperUDF = udf(lambda x: x.upper(), StringType())"
      ],
      "metadata": {
        "id": "xqU3v4AJ6fJb"
      },
      "execution_count": null,
      "outputs": []
    },
    {
      "cell_type": "code",
      "source": [
        "countries_df.withColumn(\"UPPER_CASE_NAMES\", upperUDF(col('NAME'))).show()"
      ],
      "metadata": {
        "colab": {
          "base_uri": "https://localhost:8080/"
        },
        "id": "ocreGOn85rUn",
        "outputId": "407b2646-f5c2-4a72-878f-49b491f84398"
      },
      "execution_count": null,
      "outputs": [
        {
          "output_type": "stream",
          "name": "stdout",
          "text": [
            "+----------+-------------------+--------------------+------------+----------+----------------+----------+---------+---------+-------------+----------------------+----------------------+----------------------+-------------------+\n",
            "|COUNTRY_ID|               NAME|         NATIONALITY|COUNTRY_CODE|ISO_ALPHA2|         CAPITAL|POPULATION| AREA_KM2|REGION_ID|SUB_REGION_ID|INTERMEDIATE_REGION_ID|ORGANIZATION_REGION_ID|POPULATION_IN_MILLIONS|   UPPER_CASE_NAMES|\n",
            "+----------+-------------------+--------------------+------------+----------+----------------+----------+---------+---------+-------------+----------------------+----------------------+----------------------+-------------------+\n",
            "|         1|        Afghanistan|              Afghan|         AFG|        AF|           Kabul|  38041754| 652230.0|       30|           30|                  NULL|                    30|             38.041754|        AFGHANISTAN|\n",
            "|         2|            Albania|            Albanian|         ALB|        AL|          Tirana|   2880917|  28748.0|       20|           70|                  NULL|                    20|              2.880917|            ALBANIA|\n",
            "|         3|            Algeria|            Algerian|         DZA|        DZ|         Algiers|  43053054|2381741.0|       50|           40|                  NULL|                    20|             43.053054|            ALGERIA|\n",
            "|         4|     American Samoa|     American Samoan|         ASM|        AS|       Pago Pago|     55312|    199.0|       40|           20|                  NULL|                    30|              0.055312|     AMERICAN SAMOA|\n",
            "|         5|            Andorra|            Andorran|         AND|        AD|Andorra la Vella|     77142|    468.0|       20|           70|                  NULL|                    20|              0.077142|            ANDORRA|\n",
            "|         6|             Angola|             Angolan|         AGO|        AO|          Luanda|  31825295|1246700.0|       50|          160|                    80|                    20|             31.825295|             ANGOLA|\n",
            "|         7|           Anguilla|           Anguillan|         AIA|        AI|      The Valley|     14869|     91.0|       10|           10|                    60|                    40|              0.014869|           ANGUILLA|\n",
            "|         8|         Antarctica|           Antarctic|         ATA|        AQ| McMurdo Station|      1106|   1.42E7|       40|         NULL|                  NULL|                    30|              0.001106|         ANTARCTICA|\n",
            "|         9|Antigua and Barbuda|Antiguan or Barbudan|         ATG|        AG|      St. John's|     97118|    442.0|       10|           10|                    60|                    40|              0.097118|ANTIGUA AND BARBUDA|\n",
            "|        10|          Argentina|           Argentine|         ARG|        AR|    Buenos Aires|  44780677|2780400.0|       10|           10|                    40|                    40|             44.780677|          ARGENTINA|\n",
            "|        11|            Armenia|            Armenian|         ARM|        AM|         Yerevan|   2957731|  29743.0|       30|          170|                  NULL|                    30|              2.957731|            ARMENIA|\n",
            "|        12|              Aruba|              Aruban|         ABW|        AW|      Oranjestad|    106314|    180.0|       10|           10|                    60|                    40|              0.106314|              ARUBA|\n",
            "|        13|          Australia|          Australian|         AUS|        AU|        Canberra|  25203198|7692024.0|       40|           90|                  NULL|                    30|             25.203198|          AUSTRALIA|\n",
            "|        14|            Austria|            Austrian|         AUT|        AT|          Vienna|   8955102|  83871.0|       20|          150|                  NULL|                    20|              8.955102|            AUSTRIA|\n",
            "|        15|         Azerbaijan|         Azerbaijani|         AZE|        AZ|            Baku|  10047718|  86600.0|       30|          170|                  NULL|                    30|             10.047718|         AZERBAIJAN|\n",
            "|        16|            Bahamas|            Bahamian|         BHS|        BS|          Nassau|    389482|  13943.0|       10|           10|                    60|                    40|              0.389482|            BAHAMAS|\n",
            "|        17|            Bahrain|            Bahraini|         BHR|        BH|          Manama|   1641172|    765.0|       30|          170|                  NULL|                    30|              1.641172|            BAHRAIN|\n",
            "|        18|         Bangladesh|         Bangladeshi|         BGD|        BD|           Dhaka| 163046161| 147570.0|       30|           30|                  NULL|                    30|            163.046161|         BANGLADESH|\n",
            "|        19|           Barbados|           Barbadian|         BRB|        BB|      Bridgetown|    287025|    430.0|       10|           10|                    60|                    40|              0.287025|           BARBADOS|\n",
            "|        20|            Belarus|          Belarusian|         BLR|        BY|           Minsk|   9452411| 207600.0|       20|          140|                  NULL|                    20|              9.452411|            BELARUS|\n",
            "+----------+-------------------+--------------------+------------+----------+----------------+----------+---------+---------+-------------+----------------------+----------------------+----------------------+-------------------+\n",
            "only showing top 20 rows\n",
            "\n"
          ]
        }
      ]
    },
    {
      "cell_type": "code",
      "source": [
        "lines = spark.sparkContext.textFile(\"/content/schemadata.txt\")"
      ],
      "metadata": {
        "id": "gTvF1l5n7zZp"
      },
      "execution_count": null,
      "outputs": []
    },
    {
      "cell_type": "code",
      "source": [
        "from pyspark.sql import Row\n",
        "part = lines.map(lambda x: x.split(\" \"))\n",
        "people = part.map(lambda x: Row(name=x[0], age=int(x[1])))\n",
        "\n",
        "schemapeopledf = spark.createDataFrame(people)"
      ],
      "metadata": {
        "id": "NrDxcPDi9TXU"
      },
      "execution_count": null,
      "outputs": []
    },
    {
      "cell_type": "code",
      "source": [
        "schemapeopledf.show()"
      ],
      "metadata": {
        "colab": {
          "base_uri": "https://localhost:8080/"
        },
        "id": "IdzXRxdt-DAi",
        "outputId": "7210fd87-c353-4577-9d37-f2c77103b53f"
      },
      "execution_count": null,
      "outputs": [
        {
          "output_type": "stream",
          "name": "stdout",
          "text": [
            "+---------+---+\n",
            "|     name|age|\n",
            "+---------+---+\n",
            "|    pavan| 35|\n",
            "|veerendra| 27|\n",
            "|      raj| 34|\n",
            "|   sooraj| 28|\n",
            "| anubhuti| 24|\n",
            "+---------+---+\n",
            "\n"
          ]
        }
      ]
    },
    {
      "cell_type": "code",
      "source": [
        "schemapeopledf.printSchema()"
      ],
      "metadata": {
        "colab": {
          "base_uri": "https://localhost:8080/"
        },
        "id": "8i6GNHAU-Fni",
        "outputId": "c6afa7f9-986f-485f-d027-4323978ee739"
      },
      "execution_count": null,
      "outputs": [
        {
          "output_type": "stream",
          "name": "stdout",
          "text": [
            "root\n",
            " |-- name: string (nullable = true)\n",
            " |-- age: long (nullable = true)\n",
            "\n"
          ]
        }
      ]
    },
    {
      "cell_type": "code",
      "source": [
        "schemastring = \"name age\"\n",
        "\n",
        "fields = [StructField(field_name, StringType(), True) for field_name in schemastring.split(' ')]\n",
        "schema = StructType(fields)"
      ],
      "metadata": {
        "id": "QQ7NQr6W-Nwe"
      },
      "execution_count": null,
      "outputs": []
    },
    {
      "cell_type": "code",
      "source": [
        "mydf = spark.createDataFrame(people, schema)"
      ],
      "metadata": {
        "id": "eAeV1qrL_Aga"
      },
      "execution_count": null,
      "outputs": []
    },
    {
      "cell_type": "code",
      "source": [
        "mydf.show()"
      ],
      "metadata": {
        "colab": {
          "base_uri": "https://localhost:8080/"
        },
        "id": "GRrx76Qj_ZBd",
        "outputId": "f379d736-a557-454c-cb27-178fa36d5109"
      },
      "execution_count": null,
      "outputs": [
        {
          "output_type": "stream",
          "name": "stdout",
          "text": [
            "+---------+---+\n",
            "|     name|age|\n",
            "+---------+---+\n",
            "|    pavan| 35|\n",
            "|veerendra| 27|\n",
            "|      raj| 34|\n",
            "|   sooraj| 28|\n",
            "| anubhuti| 24|\n",
            "+---------+---+\n",
            "\n"
          ]
        }
      ]
    },
    {
      "cell_type": "code",
      "source": [],
      "metadata": {
        "id": "wHhHVqsA_are"
      },
      "execution_count": null,
      "outputs": []
    },
    {
      "cell_type": "code",
      "source": [],
      "metadata": {
        "id": "idEbtU07_IZ9"
      },
      "execution_count": null,
      "outputs": []
    },
    {
      "cell_type": "code",
      "source": [],
      "metadata": {
        "id": "j6xdaZ8x9iUL"
      },
      "execution_count": null,
      "outputs": []
    },
    {
      "cell_type": "code",
      "source": [],
      "metadata": {
        "id": "jcGfzX6_9fLV"
      },
      "execution_count": null,
      "outputs": []
    },
    {
      "cell_type": "code",
      "source": [],
      "metadata": {
        "id": "iX6VpQep7xVZ"
      },
      "execution_count": null,
      "outputs": []
    },
    {
      "cell_type": "code",
      "source": [],
      "metadata": {
        "id": "pjMJNeFH7bZN"
      },
      "execution_count": null,
      "outputs": []
    },
    {
      "cell_type": "code",
      "source": [],
      "metadata": {
        "id": "fdMuTz4g5oov"
      },
      "execution_count": null,
      "outputs": []
    },
    {
      "cell_type": "code",
      "source": [],
      "metadata": {
        "id": "lsLeBGRn5gtt"
      },
      "execution_count": null,
      "outputs": []
    },
    {
      "cell_type": "code",
      "source": [],
      "metadata": {
        "id": "J8TRVKMB33Si"
      },
      "execution_count": null,
      "outputs": []
    },
    {
      "cell_type": "code",
      "source": [],
      "metadata": {
        "id": "_PFDOZJk3wNV"
      },
      "execution_count": null,
      "outputs": []
    },
    {
      "cell_type": "code",
      "source": [],
      "metadata": {
        "id": "NzSiBb0b3uNB"
      },
      "execution_count": null,
      "outputs": []
    },
    {
      "cell_type": "code",
      "source": [],
      "metadata": {
        "id": "NeRHlgpbwwNe"
      },
      "execution_count": null,
      "outputs": []
    },
    {
      "cell_type": "code",
      "source": [],
      "metadata": {
        "id": "EqyXkcVWvuLR"
      },
      "execution_count": null,
      "outputs": []
    },
    {
      "cell_type": "code",
      "source": [],
      "metadata": {
        "id": "WVzn8DOlvTsE"
      },
      "execution_count": null,
      "outputs": []
    },
    {
      "cell_type": "code",
      "source": [],
      "metadata": {
        "id": "SZtTbxBytNsy"
      },
      "execution_count": null,
      "outputs": []
    },
    {
      "cell_type": "code",
      "source": [],
      "metadata": {
        "id": "p5ZxiSXvsfBj"
      },
      "execution_count": null,
      "outputs": []
    },
    {
      "cell_type": "code",
      "source": [],
      "metadata": {
        "id": "ZE1pi5gZp2Lu"
      },
      "execution_count": null,
      "outputs": []
    },
    {
      "cell_type": "code",
      "source": [],
      "metadata": {
        "id": "p2cNYajgo1f1"
      },
      "execution_count": null,
      "outputs": []
    }
  ]
}