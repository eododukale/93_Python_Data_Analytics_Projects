{
  "nbformat": 4,
  "nbformat_minor": 0,
  "metadata": {
    "colab": {
      "provenance": [],
      "include_colab_link": true
    },
    "kernelspec": {
      "name": "python3",
      "display_name": "Python 3"
    },
    "language_info": {
      "name": "python"
    }
  },
  "cells": [
    {
      "cell_type": "markdown",
      "metadata": {
        "id": "view-in-github",
        "colab_type": "text"
      },
      "source": [
        "<a href=\"https://colab.research.google.com/github/eododukale/93_Python_Data_Analytics_Projects/blob/main/SparkSqlDemo.ipynb\" target=\"_parent\"><img src=\"https://colab.research.google.com/assets/colab-badge.svg\" alt=\"Open In Colab\"/></a>"
      ]
    },
    {
      "cell_type": "code",
      "execution_count": 1,
      "metadata": {
        "colab": {
          "base_uri": "https://localhost:8080/"
        },
        "id": "K6A4rneb87sh",
        "outputId": "aab1ff2e-0dd5-4dd0-f72b-12532b441a54"
      },
      "outputs": [
        {
          "output_type": "stream",
          "name": "stdout",
          "text": [
            "Collecting pyspark\n",
            "  Downloading pyspark-3.5.1.tar.gz (317.0 MB)\n",
            "\u001b[2K     \u001b[90m━━━━━━━━━━━━━━━━━━━━━━━━━━━━━━━━━━━━━━━━\u001b[0m \u001b[32m317.0/317.0 MB\u001b[0m \u001b[31m3.7 MB/s\u001b[0m eta \u001b[36m0:00:00\u001b[0m\n",
            "\u001b[?25h  Preparing metadata (setup.py) ... \u001b[?25l\u001b[?25hdone\n",
            "Requirement already satisfied: py4j==0.10.9.7 in /usr/local/lib/python3.10/dist-packages (from pyspark) (0.10.9.7)\n",
            "Building wheels for collected packages: pyspark\n",
            "  Building wheel for pyspark (setup.py) ... \u001b[?25l\u001b[?25hdone\n",
            "  Created wheel for pyspark: filename=pyspark-3.5.1-py2.py3-none-any.whl size=317488491 sha256=316cee3e97e9ac7bf8a424ea7c610981b8a464ddc2a266c58c5395d4d22b0334\n",
            "  Stored in directory: /root/.cache/pip/wheels/80/1d/60/2c256ed38dddce2fdd93be545214a63e02fbd8d74fb0b7f3a6\n",
            "Successfully built pyspark\n",
            "Installing collected packages: pyspark\n",
            "Successfully installed pyspark-3.5.1\n"
          ]
        }
      ],
      "source": [
        "pip install pyspark"
      ]
    },
    {
      "cell_type": "code",
      "source": [
        "from pyspark.sql import SparkSession\n",
        "spark = SparkSession.builder.appName(\"SparkSQL DEMO\").getOrCreate()"
      ],
      "metadata": {
        "id": "nhdQ2QpR9E1k"
      },
      "execution_count": null,
      "outputs": []
    },
    {
      "cell_type": "code",
      "source": [
        "# JSON FILE DATAFRAME\n",
        "\n",
        "jsondf = spark.read.json(\"/content/cars.json\")"
      ],
      "metadata": {
        "id": "dICclPmk9lNA"
      },
      "execution_count": null,
      "outputs": []
    },
    {
      "cell_type": "code",
      "source": [
        "jsondf.show()"
      ],
      "metadata": {
        "colab": {
          "base_uri": "https://localhost:8080/"
        },
        "id": "sS1CqqMK-Ac5",
        "outputId": "bd29325d-f4e2-400e-9663-4eea72a65eda"
      },
      "execution_count": null,
      "outputs": [
        {
          "output_type": "stream",
          "name": "stdout",
          "text": [
            "+------------+---------+------------+----------+----------------+--------------------+------+-------------+----------+\n",
            "|Acceleration|Cylinders|Displacement|Horsepower|Miles_per_Gallon|                Name|Origin|Weight_in_lbs|      Year|\n",
            "+------------+---------+------------+----------+----------------+--------------------+------+-------------+----------+\n",
            "|        12.0|        8|       307.0|       130|            18.0|chevrolet chevell...|   USA|         3504|1970-01-01|\n",
            "|        11.5|        8|       350.0|       165|            15.0|   buick skylark 320|   USA|         3693|1970-01-01|\n",
            "|        11.0|        8|       318.0|       150|            18.0|  plymouth satellite|   USA|         3436|1970-01-01|\n",
            "|        12.0|        8|       304.0|       150|            16.0|       amc rebel sst|   USA|         3433|1970-01-01|\n",
            "|        10.5|        8|       302.0|       140|            17.0|         ford torino|   USA|         3449|1970-01-01|\n",
            "|        10.0|        8|       429.0|       198|            15.0|    ford galaxie 500|   USA|         4341|1970-01-01|\n",
            "|         9.0|        8|       454.0|       220|            14.0|    chevrolet impala|   USA|         4354|1970-01-01|\n",
            "|         8.5|        8|       440.0|       215|            14.0|   plymouth fury iii|   USA|         4312|1970-01-01|\n",
            "|        10.0|        8|       455.0|       225|            14.0|    pontiac catalina|   USA|         4425|1970-01-01|\n",
            "|         8.5|        8|       390.0|       190|            15.0|  amc ambassador dpl|   USA|         3850|1970-01-01|\n",
            "|        17.5|        4|       133.0|       115|            NULL|citroen ds-21 pallas|Europe|         3090|1970-01-01|\n",
            "|        11.5|        8|       350.0|       165|            NULL|chevrolet chevell...|   USA|         4142|1970-01-01|\n",
            "|        11.0|        8|       351.0|       153|            NULL|    ford torino (sw)|   USA|         4034|1970-01-01|\n",
            "|        10.5|        8|       383.0|       175|            NULL|plymouth satellit...|   USA|         4166|1970-01-01|\n",
            "|        11.0|        8|       360.0|       175|            NULL|  amc rebel sst (sw)|   USA|         3850|1970-01-01|\n",
            "|        10.0|        8|       383.0|       170|            15.0| dodge challenger se|   USA|         3563|1970-01-01|\n",
            "|         8.0|        8|       340.0|       160|            14.0|  plymouth 'cuda 340|   USA|         3609|1970-01-01|\n",
            "|         8.0|        8|       302.0|       140|            NULL|ford mustang boss...|   USA|         3353|1970-01-01|\n",
            "|         9.5|        8|       400.0|       150|            15.0|chevrolet monte c...|   USA|         3761|1970-01-01|\n",
            "|        10.0|        8|       455.0|       225|            14.0|buick estate wago...|   USA|         3086|1970-01-01|\n",
            "+------------+---------+------------+----------+----------------+--------------------+------+-------------+----------+\n",
            "only showing top 20 rows\n",
            "\n"
          ]
        }
      ]
    },
    {
      "cell_type": "code",
      "source": [
        "jsondf.printSchema()"
      ],
      "metadata": {
        "colab": {
          "base_uri": "https://localhost:8080/"
        },
        "id": "uhP5zxaU-Ggn",
        "outputId": "4034389f-f1f2-4175-932e-fa1bd948d729"
      },
      "execution_count": null,
      "outputs": [
        {
          "output_type": "stream",
          "name": "stdout",
          "text": [
            "root\n",
            " |-- Acceleration: double (nullable = true)\n",
            " |-- Cylinders: long (nullable = true)\n",
            " |-- Displacement: double (nullable = true)\n",
            " |-- Horsepower: long (nullable = true)\n",
            " |-- Miles_per_Gallon: double (nullable = true)\n",
            " |-- Name: string (nullable = true)\n",
            " |-- Origin: string (nullable = true)\n",
            " |-- Weight_in_lbs: long (nullable = true)\n",
            " |-- Year: string (nullable = true)\n",
            "\n"
          ]
        }
      ]
    },
    {
      "cell_type": "code",
      "source": [
        "mycsvdf = spark.read.csv(\"/content/stocks.csv\")"
      ],
      "metadata": {
        "id": "90o6ZSKY-NfD"
      },
      "execution_count": null,
      "outputs": []
    },
    {
      "cell_type": "code",
      "source": [
        "mycsvdf.show()"
      ],
      "metadata": {
        "colab": {
          "base_uri": "https://localhost:8080/"
        },
        "id": "Qhqwmmsq-oxD",
        "outputId": "86696b29-088c-400a-9a0b-19cdafd5581c"
      },
      "execution_count": null,
      "outputs": [
        {
          "output_type": "stream",
          "name": "stdout",
          "text": [
            "+------+----------+-----+\n",
            "|   _c0|       _c1|  _c2|\n",
            "+------+----------+-----+\n",
            "|symbol|      date|price|\n",
            "|  MSFT|Jan 1 2000|39.81|\n",
            "|  MSFT|Feb 1 2000|36.35|\n",
            "|  MSFT|Mar 1 2000|43.22|\n",
            "|  MSFT|Apr 1 2000|28.37|\n",
            "|  MSFT|May 1 2000|25.45|\n",
            "|  MSFT|Jun 1 2000|32.54|\n",
            "|  MSFT|Jul 1 2000| 28.4|\n",
            "|  MSFT|Aug 1 2000| 28.4|\n",
            "|  MSFT|Sep 1 2000|24.53|\n",
            "|  MSFT|Oct 1 2000|28.02|\n",
            "|  MSFT|Nov 1 2000|23.34|\n",
            "|  MSFT|Dec 1 2000|17.65|\n",
            "|  MSFT|Jan 1 2001|24.84|\n",
            "|  MSFT|Feb 1 2001|   24|\n",
            "|  MSFT|Mar 1 2001|22.25|\n",
            "|  MSFT|Apr 1 2001|27.56|\n",
            "|  MSFT|May 1 2001|28.14|\n",
            "|  MSFT|Jun 1 2001| 29.7|\n",
            "|  MSFT|Jul 1 2001|26.93|\n",
            "+------+----------+-----+\n",
            "only showing top 20 rows\n",
            "\n"
          ]
        }
      ]
    },
    {
      "cell_type": "code",
      "source": [
        "mycsvdf = spark.read.csv(\"/content/stocks.csv\", header = True)"
      ],
      "metadata": {
        "id": "NcTbzcna-qsX"
      },
      "execution_count": null,
      "outputs": []
    },
    {
      "cell_type": "code",
      "source": [
        "mycsvdf.show()"
      ],
      "metadata": {
        "colab": {
          "base_uri": "https://localhost:8080/"
        },
        "id": "fYobC5mC-9Lq",
        "outputId": "9acfe9c8-ee2f-46e3-83a4-775af721e4c0"
      },
      "execution_count": null,
      "outputs": [
        {
          "output_type": "stream",
          "name": "stdout",
          "text": [
            "+------+----------+-----+\n",
            "|symbol|      date|price|\n",
            "+------+----------+-----+\n",
            "|  MSFT|Jan 1 2000|39.81|\n",
            "|  MSFT|Feb 1 2000|36.35|\n",
            "|  MSFT|Mar 1 2000|43.22|\n",
            "|  MSFT|Apr 1 2000|28.37|\n",
            "|  MSFT|May 1 2000|25.45|\n",
            "|  MSFT|Jun 1 2000|32.54|\n",
            "|  MSFT|Jul 1 2000| 28.4|\n",
            "|  MSFT|Aug 1 2000| 28.4|\n",
            "|  MSFT|Sep 1 2000|24.53|\n",
            "|  MSFT|Oct 1 2000|28.02|\n",
            "|  MSFT|Nov 1 2000|23.34|\n",
            "|  MSFT|Dec 1 2000|17.65|\n",
            "|  MSFT|Jan 1 2001|24.84|\n",
            "|  MSFT|Feb 1 2001|   24|\n",
            "|  MSFT|Mar 1 2001|22.25|\n",
            "|  MSFT|Apr 1 2001|27.56|\n",
            "|  MSFT|May 1 2001|28.14|\n",
            "|  MSFT|Jun 1 2001| 29.7|\n",
            "|  MSFT|Jul 1 2001|26.93|\n",
            "|  MSFT|Aug 1 2001|23.21|\n",
            "+------+----------+-----+\n",
            "only showing top 20 rows\n",
            "\n"
          ]
        }
      ]
    },
    {
      "cell_type": "code",
      "source": [
        "mycsvdf.printSchema()"
      ],
      "metadata": {
        "colab": {
          "base_uri": "https://localhost:8080/"
        },
        "id": "uJ2riglf-_Pn",
        "outputId": "1caecbf6-979c-4c5e-9523-a48be84a3104"
      },
      "execution_count": null,
      "outputs": [
        {
          "output_type": "stream",
          "name": "stdout",
          "text": [
            "root\n",
            " |-- symbol: string (nullable = true)\n",
            " |-- date: string (nullable = true)\n",
            " |-- price: string (nullable = true)\n",
            "\n"
          ]
        }
      ]
    },
    {
      "cell_type": "code",
      "source": [
        "mycsvdf = spark.read.csv(\"/content/stocks.csv\", header = True, inferSchema = True)"
      ],
      "metadata": {
        "id": "WxJT5lTA_FjD"
      },
      "execution_count": null,
      "outputs": []
    },
    {
      "cell_type": "code",
      "source": [
        "mycsvdf.printSchema()"
      ],
      "metadata": {
        "colab": {
          "base_uri": "https://localhost:8080/"
        },
        "id": "w6oU4rxu_UL_",
        "outputId": "fe649838-f2a2-492c-cf72-f97e92d6c03a"
      },
      "execution_count": null,
      "outputs": [
        {
          "output_type": "stream",
          "name": "stdout",
          "text": [
            "root\n",
            " |-- symbol: string (nullable = true)\n",
            " |-- date: string (nullable = true)\n",
            " |-- price: double (nullable = true)\n",
            "\n"
          ]
        }
      ]
    },
    {
      "cell_type": "code",
      "source": [
        "#GENERIC FORMAT\n",
        "\n",
        "mygendf = spark.read.format(\"json\").load(\"/content/cars.json\")\n",
        "\n"
      ],
      "metadata": {
        "id": "8hQjEEoT_WW3"
      },
      "execution_count": null,
      "outputs": []
    },
    {
      "cell_type": "code",
      "source": [
        "mygendf.show()"
      ],
      "metadata": {
        "colab": {
          "base_uri": "https://localhost:8080/"
        },
        "id": "t7ZZM22o__eO",
        "outputId": "2eae5667-ac48-4fae-d605-8c8bc6c93f9d"
      },
      "execution_count": null,
      "outputs": [
        {
          "output_type": "stream",
          "name": "stdout",
          "text": [
            "+------------+---------+------------+----------+----------------+--------------------+------+-------------+----------+\n",
            "|Acceleration|Cylinders|Displacement|Horsepower|Miles_per_Gallon|                Name|Origin|Weight_in_lbs|      Year|\n",
            "+------------+---------+------------+----------+----------------+--------------------+------+-------------+----------+\n",
            "|        12.0|        8|       307.0|       130|            18.0|chevrolet chevell...|   USA|         3504|1970-01-01|\n",
            "|        11.5|        8|       350.0|       165|            15.0|   buick skylark 320|   USA|         3693|1970-01-01|\n",
            "|        11.0|        8|       318.0|       150|            18.0|  plymouth satellite|   USA|         3436|1970-01-01|\n",
            "|        12.0|        8|       304.0|       150|            16.0|       amc rebel sst|   USA|         3433|1970-01-01|\n",
            "|        10.5|        8|       302.0|       140|            17.0|         ford torino|   USA|         3449|1970-01-01|\n",
            "|        10.0|        8|       429.0|       198|            15.0|    ford galaxie 500|   USA|         4341|1970-01-01|\n",
            "|         9.0|        8|       454.0|       220|            14.0|    chevrolet impala|   USA|         4354|1970-01-01|\n",
            "|         8.5|        8|       440.0|       215|            14.0|   plymouth fury iii|   USA|         4312|1970-01-01|\n",
            "|        10.0|        8|       455.0|       225|            14.0|    pontiac catalina|   USA|         4425|1970-01-01|\n",
            "|         8.5|        8|       390.0|       190|            15.0|  amc ambassador dpl|   USA|         3850|1970-01-01|\n",
            "|        17.5|        4|       133.0|       115|            NULL|citroen ds-21 pallas|Europe|         3090|1970-01-01|\n",
            "|        11.5|        8|       350.0|       165|            NULL|chevrolet chevell...|   USA|         4142|1970-01-01|\n",
            "|        11.0|        8|       351.0|       153|            NULL|    ford torino (sw)|   USA|         4034|1970-01-01|\n",
            "|        10.5|        8|       383.0|       175|            NULL|plymouth satellit...|   USA|         4166|1970-01-01|\n",
            "|        11.0|        8|       360.0|       175|            NULL|  amc rebel sst (sw)|   USA|         3850|1970-01-01|\n",
            "|        10.0|        8|       383.0|       170|            15.0| dodge challenger se|   USA|         3563|1970-01-01|\n",
            "|         8.0|        8|       340.0|       160|            14.0|  plymouth 'cuda 340|   USA|         3609|1970-01-01|\n",
            "|         8.0|        8|       302.0|       140|            NULL|ford mustang boss...|   USA|         3353|1970-01-01|\n",
            "|         9.5|        8|       400.0|       150|            15.0|chevrolet monte c...|   USA|         3761|1970-01-01|\n",
            "|        10.0|        8|       455.0|       225|            14.0|buick estate wago...|   USA|         3086|1970-01-01|\n",
            "+------------+---------+------------+----------+----------------+--------------------+------+-------------+----------+\n",
            "only showing top 20 rows\n",
            "\n"
          ]
        }
      ]
    },
    {
      "cell_type": "code",
      "source": [
        "mycsvdf = spark.read.format(\"csv\").option(\"header\", \"true\").option(\"inferSchema\", \"true\").load(\"/content/stocks.csv\")"
      ],
      "metadata": {
        "id": "UnW09cQ6ANYc"
      },
      "execution_count": null,
      "outputs": []
    },
    {
      "cell_type": "code",
      "source": [
        "mycsvdf.show()"
      ],
      "metadata": {
        "colab": {
          "base_uri": "https://localhost:8080/"
        },
        "id": "5kRp-hVgAQ5a",
        "outputId": "42ed12b0-f6ab-45c9-c867-0f8ec80a3eb8"
      },
      "execution_count": null,
      "outputs": [
        {
          "output_type": "stream",
          "name": "stdout",
          "text": [
            "+------+----------+-----+\n",
            "|symbol|      date|price|\n",
            "+------+----------+-----+\n",
            "|  MSFT|Jan 1 2000|39.81|\n",
            "|  MSFT|Feb 1 2000|36.35|\n",
            "|  MSFT|Mar 1 2000|43.22|\n",
            "|  MSFT|Apr 1 2000|28.37|\n",
            "|  MSFT|May 1 2000|25.45|\n",
            "|  MSFT|Jun 1 2000|32.54|\n",
            "|  MSFT|Jul 1 2000| 28.4|\n",
            "|  MSFT|Aug 1 2000| 28.4|\n",
            "|  MSFT|Sep 1 2000|24.53|\n",
            "|  MSFT|Oct 1 2000|28.02|\n",
            "|  MSFT|Nov 1 2000|23.34|\n",
            "|  MSFT|Dec 1 2000|17.65|\n",
            "|  MSFT|Jan 1 2001|24.84|\n",
            "|  MSFT|Feb 1 2001| 24.0|\n",
            "|  MSFT|Mar 1 2001|22.25|\n",
            "|  MSFT|Apr 1 2001|27.56|\n",
            "|  MSFT|May 1 2001|28.14|\n",
            "|  MSFT|Jun 1 2001| 29.7|\n",
            "|  MSFT|Jul 1 2001|26.93|\n",
            "|  MSFT|Aug 1 2001|23.21|\n",
            "+------+----------+-----+\n",
            "only showing top 20 rows\n",
            "\n"
          ]
        }
      ]
    },
    {
      "cell_type": "code",
      "source": [
        "#sql programatically\n",
        "\n",
        "mycsvdf.createOrReplaceTempView(\"stocks_view\")\n",
        "\n",
        "mytf = spark.sql(\"select symbol, price from stocks_view where price > 25.0 \")\n"
      ],
      "metadata": {
        "id": "vNWrqOBKAYZ9"
      },
      "execution_count": null,
      "outputs": []
    },
    {
      "cell_type": "code",
      "source": [
        "mytf.show()"
      ],
      "metadata": {
        "colab": {
          "base_uri": "https://localhost:8080/"
        },
        "id": "tOrb0D5YBGLJ",
        "outputId": "b08ed937-2be4-45ae-d1aa-c2d259443596"
      },
      "execution_count": null,
      "outputs": [
        {
          "output_type": "stream",
          "name": "stdout",
          "text": [
            "+------+-----+\n",
            "|symbol|price|\n",
            "+------+-----+\n",
            "|  MSFT|39.81|\n",
            "|  MSFT|36.35|\n",
            "|  MSFT|43.22|\n",
            "|  MSFT|28.37|\n",
            "|  MSFT|25.45|\n",
            "|  MSFT|32.54|\n",
            "|  MSFT| 28.4|\n",
            "|  MSFT| 28.4|\n",
            "|  MSFT|28.02|\n",
            "|  MSFT|27.56|\n",
            "|  MSFT|28.14|\n",
            "|  MSFT| 29.7|\n",
            "|  MSFT|26.93|\n",
            "|  MSFT|26.12|\n",
            "|  MSFT|26.95|\n",
            "|  MSFT|25.92|\n",
            "|  MSFT|25.35|\n",
            "|  MSFT|25.71|\n",
            "|  MSFT|26.14|\n",
            "|  MSFT|25.04|\n",
            "+------+-----+\n",
            "only showing top 20 rows\n",
            "\n"
          ]
        }
      ]
    },
    {
      "cell_type": "code",
      "source": [
        "mycsvdf.write.parquet(\"mycsvtoparquet\")"
      ],
      "metadata": {
        "id": "vQyddzYXBM-6"
      },
      "execution_count": null,
      "outputs": []
    },
    {
      "cell_type": "code",
      "source": [
        "mycsvdf.write.format(\"orc\").save(\"myorcformat\")"
      ],
      "metadata": {
        "id": "tS26gdzqB1j2"
      },
      "execution_count": null,
      "outputs": []
    },
    {
      "cell_type": "code",
      "source": [
        "myparquetdf = spark.read.format(\"parquet\").load(\"/content/mycsvtoparquet/part-00000-2889138b-b5c4-4ee0-95f0-3462fecd3b0d-c000.snappy.parquet\")"
      ],
      "metadata": {
        "id": "hSNKToV3BIAh"
      },
      "execution_count": null,
      "outputs": []
    },
    {
      "cell_type": "code",
      "source": [
        "myparquetdf.show()"
      ],
      "metadata": {
        "colab": {
          "base_uri": "https://localhost:8080/"
        },
        "id": "9lLy1lCACXn7",
        "outputId": "1632aad2-9b3d-496d-e148-5b80f963d8dc"
      },
      "execution_count": null,
      "outputs": [
        {
          "output_type": "stream",
          "name": "stdout",
          "text": [
            "+------+----------+-----+\n",
            "|symbol|      date|price|\n",
            "+------+----------+-----+\n",
            "|  MSFT|Jan 1 2000|39.81|\n",
            "|  MSFT|Feb 1 2000|36.35|\n",
            "|  MSFT|Mar 1 2000|43.22|\n",
            "|  MSFT|Apr 1 2000|28.37|\n",
            "|  MSFT|May 1 2000|25.45|\n",
            "|  MSFT|Jun 1 2000|32.54|\n",
            "|  MSFT|Jul 1 2000| 28.4|\n",
            "|  MSFT|Aug 1 2000| 28.4|\n",
            "|  MSFT|Sep 1 2000|24.53|\n",
            "|  MSFT|Oct 1 2000|28.02|\n",
            "|  MSFT|Nov 1 2000|23.34|\n",
            "|  MSFT|Dec 1 2000|17.65|\n",
            "|  MSFT|Jan 1 2001|24.84|\n",
            "|  MSFT|Feb 1 2001| 24.0|\n",
            "|  MSFT|Mar 1 2001|22.25|\n",
            "|  MSFT|Apr 1 2001|27.56|\n",
            "|  MSFT|May 1 2001|28.14|\n",
            "|  MSFT|Jun 1 2001| 29.7|\n",
            "|  MSFT|Jul 1 2001|26.93|\n",
            "|  MSFT|Aug 1 2001|23.21|\n",
            "+------+----------+-----+\n",
            "only showing top 20 rows\n",
            "\n"
          ]
        }
      ]
    },
    {
      "cell_type": "code",
      "source": [],
      "metadata": {
        "id": "e_C0DlpQCbCO"
      },
      "execution_count": null,
      "outputs": []
    }
  ]
}